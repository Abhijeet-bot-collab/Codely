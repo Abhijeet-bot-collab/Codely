{
  "nbformat": 4,
  "nbformat_minor": 0,
  "metadata": {
    "colab": {
      "private_outputs": true,
      "provenance": []
    },
    "kernelspec": {
      "name": "python3",
      "display_name": "Python 3"
    },
    "language_info": {
      "name": "python"
    }
  },
  "cells": [
    {
      "cell_type": "code",
      "execution_count": null,
      "metadata": {
        "id": "BJ6ji0xUz-hA"
      },
      "outputs": [],
      "source": [
        "import pandas as pd\n",
        "import numpy as np\n",
        "import matplotlib.pyplot as plt\n",
        "import seaborn as sns"
      ]
    },
    {
      "cell_type": "code",
      "source": [
        "df = pd.read_csv(\"/content/drive/MyDrive/7_CSV FILE/laptop_price.csv\",encoding='latin')\n",
        "df"
      ],
      "metadata": {
        "id": "FbdjzKY31U4C"
      },
      "execution_count": null,
      "outputs": []
    },
    {
      "cell_type": "code",
      "source": [
        "# Drop columns\n",
        "df.drop(columns=['laptop_ID'],inplace=True)"
      ],
      "metadata": {
        "id": "3-aOMOmm1gbB"
      },
      "execution_count": null,
      "outputs": []
    },
    {
      "cell_type": "code",
      "source": [
        "# Check missing values\n",
        "print(df.isnull().sum())"
      ],
      "metadata": {
        "id": "r4M-ZKO72FyT"
      },
      "execution_count": null,
      "outputs": []
    },
    {
      "cell_type": "code",
      "source": [
        "# Cheack duplicated values\n",
        "print(df.duplicated().sum())\n",
        "print()\n",
        "print(\"-\"*40)\n",
        "df[df.duplicated()]"
      ],
      "metadata": {
        "id": "w5EGegSj2SrK"
      },
      "execution_count": null,
      "outputs": []
    },
    {
      "cell_type": "code",
      "source": [
        "# drop duplicaes values\n",
        "df.drop_duplicates(inplace=True)"
      ],
      "metadata": {
        "id": "VLFVa13q2dMB"
      },
      "execution_count": null,
      "outputs": []
    },
    {
      "cell_type": "code",
      "source": [
        "df.info()"
      ],
      "metadata": {
        "id": "b0v9PC9d3DAE"
      },
      "execution_count": null,
      "outputs": []
    },
    {
      "cell_type": "code",
      "source": [
        "df.sample(5)"
      ],
      "metadata": {
        "id": "_dYGuAGv3FSF"
      },
      "execution_count": null,
      "outputs": []
    },
    {
      "cell_type": "code",
      "source": [
        "df['Price']=round(df['Price_euros']*130.44,2).astype('int')"
      ],
      "metadata": {
        "id": "4OT9sbI_3P2i"
      },
      "execution_count": null,
      "outputs": []
    },
    {
      "cell_type": "code",
      "source": [
        "df.drop(columns=['Price_euros'],inplace=True)"
      ],
      "metadata": {
        "id": "2ToozNww3wB3"
      },
      "execution_count": null,
      "outputs": []
    },
    {
      "cell_type": "code",
      "source": [
        "sns.histplot(df['Price'],kde=True)"
      ],
      "metadata": {
        "id": "7u_R_iT_38Ab"
      },
      "execution_count": null,
      "outputs": []
    },
    {
      "cell_type": "code",
      "source": [
        "sns.kdeplot(df['Price'])"
      ],
      "metadata": {
        "id": "UL2KsUu34E_5"
      },
      "execution_count": null,
      "outputs": []
    },
    {
      "cell_type": "code",
      "source": [
        "# Right skewed data"
      ],
      "metadata": {
        "id": "LKc5zeIt4Qgs"
      },
      "execution_count": null,
      "outputs": []
    },
    {
      "cell_type": "code",
      "source": [
        "sns.kdeplot(np.log(df['Price']))"
      ],
      "metadata": {
        "id": "NL1oyvC84aVJ"
      },
      "execution_count": null,
      "outputs": []
    },
    {
      "cell_type": "code",
      "source": [
        "# converts price to its natural lograrithm (lm)\n",
        "np.exp(np.log(df['Price']))"
      ],
      "metadata": {
        "id": "C76nIdYg4hK7"
      },
      "execution_count": null,
      "outputs": []
    },
    {
      "cell_type": "code",
      "source": [
        "#sorted in descending order by default.\n",
        "print(df['Company'].value_counts())"
      ],
      "metadata": {
        "id": "WgxfB1ct6yht"
      },
      "execution_count": null,
      "outputs": []
    },
    {
      "cell_type": "code",
      "source": [
        "df['Company'].value_counts().plot(kind='bar')"
      ],
      "metadata": {
        "id": "dZUohoUh70PP"
      },
      "execution_count": null,
      "outputs": []
    },
    {
      "cell_type": "code",
      "source": [
        "len(df['Company'].value_counts())"
      ],
      "metadata": {
        "id": "I8IRpyXY8bJg"
      },
      "execution_count": null,
      "outputs": []
    },
    {
      "cell_type": "code",
      "source": [
        "# Company ascending order\n",
        "print(df.groupby('Company')['Company'].count().sort_values(ascending=False))"
      ],
      "metadata": {
        "id": "ic0Ajc2EBMjM"
      },
      "execution_count": null,
      "outputs": []
    },
    {
      "cell_type": "code",
      "source": [
        "# Result: For every row, you get the total number of times that\n",
        "#particular company appears in the entire DataFrame.\n",
        "\n",
        "df.groupby('Company')['Company'].transform('count')"
      ],
      "metadata": {
        "id": "Y6NxRP12TVHP"
      },
      "execution_count": null,
      "outputs": []
    },
    {
      "cell_type": "code",
      "source": [
        "df['Company']"
      ],
      "metadata": {
        "id": "4iLPzNe6Tyn0"
      },
      "execution_count": null,
      "outputs": []
    },
    {
      "cell_type": "code",
      "source": [
        "df = df[df.groupby('Company')['Company'].transform('count')>20]"
      ],
      "metadata": {
        "id": "RykYtpiUUQNg"
      },
      "execution_count": null,
      "outputs": []
    },
    {
      "cell_type": "code",
      "source": [
        "df.reset_index(drop=True,inplace=True)"
      ],
      "metadata": {
        "id": "Nkgt9A1lrZ_C"
      },
      "execution_count": null,
      "outputs": []
    },
    {
      "cell_type": "code",
      "source": [
        "df"
      ],
      "metadata": {
        "id": "8RgA-NTurhPq"
      },
      "execution_count": null,
      "outputs": []
    },
    {
      "cell_type": "code",
      "source": [
        "print(df['Company'].value_counts())"
      ],
      "metadata": {
        "id": "n6BLAJgsrihm"
      },
      "execution_count": null,
      "outputs": []
    },
    {
      "cell_type": "code",
      "source": [
        "df['Company'].value_counts().plot(kind='bar')"
      ],
      "metadata": {
        "id": "aQPNu4GurtyH"
      },
      "execution_count": null,
      "outputs": []
    },
    {
      "cell_type": "code",
      "source": [
        "df.groupby('Company')['Price'].mean().sort_values(ascending=False)"
      ],
      "metadata": {
        "collapsed": true,
        "id": "D-EWr1LusL99"
      },
      "execution_count": null,
      "outputs": []
    },
    {
      "cell_type": "code",
      "source": [
        "sorted_company_list = df.groupby('Company')['Price'].mean().sort_values(ascending=False).index\n",
        "sorted_company_list"
      ],
      "metadata": {
        "id": "acZSnAHessGA"
      },
      "execution_count": null,
      "outputs": []
    },
    {
      "cell_type": "code",
      "source": [
        "sorted_company_list[::-1]"
      ],
      "metadata": {
        "id": "p_whPJ9BtIkP"
      },
      "execution_count": null,
      "outputs": []
    },
    {
      "cell_type": "code",
      "source": [
        "sns.color_palette(\"Reds\")"
      ],
      "metadata": {
        "id": "fEgkzN25tN2Y"
      },
      "execution_count": null,
      "outputs": []
    },
    {
      "cell_type": "code",
      "source": [
        "sns.barplot(x=df['Company'],y=df['Price'],errorbar=None,order=sorted_company_list,\n",
        "            hue=df['Company'],palette='Reds',hue_order=sorted_company_list[::-1])"
      ],
      "metadata": {
        "id": "YJhvizOHtbhA"
      },
      "execution_count": null,
      "outputs": []
    },
    {
      "cell_type": "code",
      "source": [
        "df.sample()"
      ],
      "metadata": {
        "id": "sTFR4hJft5vE"
      },
      "execution_count": null,
      "outputs": []
    },
    {
      "cell_type": "code",
      "source": [
        "print(df['Product'].value_counts())"
      ],
      "metadata": {
        "id": "wSaCwPV7uJ3w"
      },
      "execution_count": null,
      "outputs": []
    },
    {
      "cell_type": "code",
      "source": [
        "df.drop(columns=['Product'],inplace=True)"
      ],
      "metadata": {
        "id": "govfycpSxa5B"
      },
      "execution_count": null,
      "outputs": []
    },
    {
      "cell_type": "code",
      "source": [
        "print(df['TypeName'].value_counts())"
      ],
      "metadata": {
        "id": "OXYOyGuVxlyu"
      },
      "execution_count": null,
      "outputs": []
    },
    {
      "cell_type": "code",
      "source": [
        "df.sample()"
      ],
      "metadata": {
        "id": "YmU8W7hyyC0d"
      },
      "execution_count": null,
      "outputs": []
    },
    {
      "cell_type": "code",
      "source": [
        "df['TypeName'].value_counts().plot(kind='bar')"
      ],
      "metadata": {
        "id": "10fYnkYuyUA8"
      },
      "execution_count": null,
      "outputs": []
    },
    {
      "cell_type": "code",
      "source": [
        "df.groupby('TypeName')['Price'].mean().sort_values(ascending=False)"
      ],
      "metadata": {
        "id": "p5D-kqyly-b9"
      },
      "execution_count": null,
      "outputs": []
    },
    {
      "cell_type": "code",
      "source": [
        "sorted_typelist=df.groupby('TypeName')['Price'].mean().sort_values(ascending=False).index\n",
        "sorted_typelist"
      ],
      "metadata": {
        "id": "BAPL6yrpzTe0"
      },
      "execution_count": null,
      "outputs": []
    },
    {
      "cell_type": "code",
      "source": [
        "sns.barplot(x=df['TypeName'],y=df['Price'],errorbar=None,order=sorted_typelist,\n",
        "            palette=\"Reds\",hue=df['TypeName'],hue_order=sorted_typelist[::-1])\n",
        "plt.xticks(rotation=90)\n",
        "plt.show()"
      ],
      "metadata": {
        "id": "XK2VD-p6zyft"
      },
      "execution_count": null,
      "outputs": []
    },
    {
      "cell_type": "code",
      "source": [
        "df.sample()"
      ],
      "metadata": {
        "id": "oNelSBSk0gok"
      },
      "execution_count": null,
      "outputs": []
    },
    {
      "cell_type": "code",
      "source": [
        "print(df['Inches'].value_counts())"
      ],
      "metadata": {
        "id": "AzBXlDFS0u97"
      },
      "execution_count": null,
      "outputs": []
    },
    {
      "cell_type": "code",
      "source": [
        "sns.histplot(df['Inches'],kde=True)"
      ],
      "metadata": {
        "id": "L6TuIb6k03J8"
      },
      "execution_count": null,
      "outputs": []
    },
    {
      "cell_type": "code",
      "source": [
        "sns.scatterplot(x=df['Inches'],y=df['Price'],color='r')"
      ],
      "metadata": {
        "id": "gjBs6nsG1Lfu"
      },
      "execution_count": null,
      "outputs": []
    },
    {
      "cell_type": "code",
      "source": [
        "print(df['ScreenResolution'].value_counts())"
      ],
      "metadata": {
        "id": "P6nvz60H3re8"
      },
      "execution_count": null,
      "outputs": []
    },
    {
      "cell_type": "code",
      "source": [
        "a=\"Ips Panel Full HD / Touchscreen 1920x1080\"\n",
        "a.split()[-1].split('x')[0]"
      ],
      "metadata": {
        "id": "s_jOGG3T38p2"
      },
      "execution_count": null,
      "outputs": []
    },
    {
      "cell_type": "code",
      "source": [
        "(lambda a:a.split()[-1].split('x')[0])(\"IPS Panel Full HD / Touchscreen 1920x1080\")"
      ],
      "metadata": {
        "id": "jC5eeXGm4gdW"
      },
      "execution_count": null,
      "outputs": []
    },
    {
      "cell_type": "code",
      "source": [
        "df['X_res']=df['ScreenResolution'].apply(lambda a:a.split()[-1].split('x')[0]).astype('int')\n",
        "df['Y_res']=df['ScreenResolution'].apply(lambda a:a.split()[-1].split('x')[1]).astype('int')\n",
        "df['Touchscreen']=df['ScreenResolution'].apply(lambda a:1 if \"Touchscreen\" in a else 0)\n",
        "df['Ips']=df['ScreenResolution'].apply(lambda a:1 if \"IPS\" in a else 0)"
      ],
      "metadata": {
        "id": "DKSmLnS244Qu"
      },
      "execution_count": null,
      "outputs": []
    },
    {
      "cell_type": "code",
      "source": [
        "df.sample(5)"
      ],
      "metadata": {
        "id": "v1UOv3e1BD57"
      },
      "execution_count": null,
      "outputs": []
    },
    {
      "cell_type": "code",
      "source": [
        "df.drop(columns=['ScreenResolution'],inplace=True)"
      ],
      "metadata": {
        "id": "1Jgdfi-HBZQd"
      },
      "execution_count": null,
      "outputs": []
    },
    {
      "cell_type": "code",
      "source": [
        "df.sample()"
      ],
      "metadata": {
        "id": "bWpXLEAZBycb"
      },
      "execution_count": null,
      "outputs": []
    },
    {
      "cell_type": "code",
      "source": [
        "df['Touchscreen'].value_counts().plot(kind='bar')"
      ],
      "metadata": {
        "id": "h7DOqVUSB0S2"
      },
      "execution_count": null,
      "outputs": []
    },
    {
      "cell_type": "code",
      "source": [
        "sns.barplot(x=df[\"Touchscreen\"],y=df['Price'])"
      ],
      "metadata": {
        "id": "KDn6Nj6bB7WX"
      },
      "execution_count": null,
      "outputs": []
    },
    {
      "cell_type": "code",
      "source": [
        "df[\"Ips\"].value_counts().plot(kind='bar')"
      ],
      "metadata": {
        "id": "FeL_1VgqCq8N"
      },
      "execution_count": null,
      "outputs": []
    },
    {
      "cell_type": "code",
      "source": [
        "sns.barplot(x=df['Ips'],y=df['Price'],errorbar=None)"
      ],
      "metadata": {
        "id": "hyyfU5LYELUP"
      },
      "execution_count": null,
      "outputs": []
    },
    {
      "cell_type": "code",
      "source": [
        "print(df['Cpu'].value_counts())"
      ],
      "metadata": {
        "id": "Ca9gUssqEa3n"
      },
      "execution_count": null,
      "outputs": []
    },
    {
      "cell_type": "code",
      "source": [
        "df['Cpu_Speed']=df['Cpu'].apply(lambda x:x.split()[-1].replace('GHz',\"\")).astype('float')"
      ],
      "metadata": {
        "id": "E0_r3aIrlZvH"
      },
      "execution_count": null,
      "outputs": []
    },
    {
      "cell_type": "code",
      "source": [
        "df.sample(5)"
      ],
      "metadata": {
        "id": "eCyvosZ_GbD3"
      },
      "execution_count": null,
      "outputs": []
    },
    {
      "cell_type": "code",
      "source": [
        "df['Cpu']=df['Cpu'].apply(lambda x:\" \".join(x.split()[0:3]))"
      ],
      "metadata": {
        "id": "UuqFoK48Gi6x"
      },
      "execution_count": null,
      "outputs": []
    },
    {
      "cell_type": "code",
      "source": [
        "print(df['Cpu'].value_counts())"
      ],
      "metadata": {
        "id": "SjfTcQpcHfZR"
      },
      "execution_count": null,
      "outputs": []
    },
    {
      "cell_type": "code",
      "source": [
        "def fetch_processor_name(proc):\n",
        "    if proc.split()[0]=='Intel':\n",
        "        if proc.split()[1]=='Core':\n",
        "            return proc\n",
        "        else:\n",
        "            return \" \".join(proc.split()[0:2])\n",
        "    else:\n",
        "        if proc[4]=='E':\n",
        "            return \"AMD E-Series\"\n",
        "        elif proc[4]=='R':\n",
        "            return \"AMD Ryzen Series\"\n",
        "        elif proc[4]=='A':\n",
        "            return \"AMD A Series\"\n",
        "        else:\n",
        "            return \"AMD Fx series\""
      ],
      "metadata": {
        "id": "VtxjHGOHIGRC"
      },
      "execution_count": null,
      "outputs": []
    },
    {
      "cell_type": "code",
      "source": [
        "df['Cpu']=df[\"Cpu\"].apply(fetch_processor_name)"
      ],
      "metadata": {
        "id": "eEP2rPllJ_1K"
      },
      "execution_count": null,
      "outputs": []
    },
    {
      "cell_type": "code",
      "source": [
        "print(df['Cpu'].value_counts())"
      ],
      "metadata": {
        "id": "a-ZbirMpKQEq"
      },
      "execution_count": null,
      "outputs": []
    },
    {
      "cell_type": "code",
      "source": [
        "df['Cpu'].value_counts().plot(kind='bar')"
      ],
      "metadata": {
        "id": "2mt6jrMwKXhy"
      },
      "execution_count": null,
      "outputs": []
    },
    {
      "cell_type": "code",
      "source": [
        "sorted_cpulist= df.groupby('Cpu')['Price'].mean().sort_values(ascending=False).index\n",
        "sorted_cpulist"
      ],
      "metadata": {
        "id": "tlthg80IKwcT"
      },
      "execution_count": null,
      "outputs": []
    },
    {
      "cell_type": "code",
      "source": [
        "sns.barplot(x=df['Cpu'],y=df['Price'],errorbar=None,order=sorted_cpulist,\n",
        "            palette='Reds',hue=df['Cpu'],hue_order=sorted_cpulist[::-1])\n",
        "plt.xticks(rotation=90)\n",
        "plt.show()"
      ],
      "metadata": {
        "id": "6Td35m3BLFMA"
      },
      "execution_count": null,
      "outputs": []
    },
    {
      "cell_type": "code",
      "source": [
        "df['Ram'] = df['Ram'].apply(lambda x:x.replace(\"GB\",\"\")).astype('int')\n",
        "df['Weight'] = df['Weight'].apply(lambda x:x.replace(\"kg\",\"\")).astype(\"float\")"
      ],
      "metadata": {
        "id": "d1PfYDGuLoKW"
      },
      "execution_count": null,
      "outputs": []
    },
    {
      "cell_type": "code",
      "source": [
        "df['Ram'].value_counts().plot(kind='bar', color= 'orange')"
      ],
      "metadata": {
        "id": "Ilh3psyf_ewU"
      },
      "execution_count": null,
      "outputs": []
    },
    {
      "cell_type": "code",
      "source": [
        "sns.barplot(x=df['Ram'],y=df['Price'],errorbar=None,hue=df['Ram'],palette=\"Reds\")"
      ],
      "metadata": {
        "id": "K3tO8S4MAAkl"
      },
      "execution_count": null,
      "outputs": []
    },
    {
      "cell_type": "code",
      "source": [
        "print(df['Gpu'].value_counts())"
      ],
      "metadata": {
        "id": "htJhTX8mAUKt"
      },
      "execution_count": null,
      "outputs": []
    },
    {
      "cell_type": "code",
      "source": [
        "df['Gpu']=df['Gpu'].apply(lambda x:\" \".join(x.split()[0:2]))"
      ],
      "metadata": {
        "id": "u4Pt8sc-Ca5o"
      },
      "execution_count": null,
      "outputs": []
    },
    {
      "cell_type": "code",
      "source": [
        "print(df['Gpu'].value_counts())"
      ],
      "metadata": {
        "id": "pD9BUbeECshd"
      },
      "execution_count": null,
      "outputs": []
    },
    {
      "cell_type": "code",
      "source": [
        "def fetch_gpu_name(text):\n",
        "    if text.split()[0]=='AMD':\n",
        "        return \"AMD GPU\"\n",
        "    elif text == \"Intel Graphics\":\n",
        "        return \"Intel HD\"\n",
        "    elif text == \"Nvidia GTX\":\n",
        "        return \"Nvidia GeForce\"\n",
        "    else:\n",
        "        return text"
      ],
      "metadata": {
        "id": "idGX-vJbAdGz"
      },
      "execution_count": null,
      "outputs": []
    },
    {
      "cell_type": "code",
      "source": [
        "df[\"Gpu\"] = df[\"Gpu\"].apply(fetch_gpu_name)"
      ],
      "metadata": {
        "id": "KAVFO4wyBR-A"
      },
      "execution_count": null,
      "outputs": []
    },
    {
      "cell_type": "code",
      "source": [
        "print(df['Gpu'].value_counts())"
      ],
      "metadata": {
        "id": "-d6QPu09BYmG"
      },
      "execution_count": null,
      "outputs": []
    },
    {
      "cell_type": "code",
      "source": [
        "df['Gpu'].value_counts().plot(kind='bar', color='orange')"
      ],
      "metadata": {
        "id": "3AFXOqGGBfw7"
      },
      "execution_count": null,
      "outputs": []
    },
    {
      "cell_type": "code",
      "source": [
        "sorted_gpulist = df.groupby('Gpu')['Price'].mean().sort_values(ascending=False).index\n",
        "sorted_gpulist"
      ],
      "metadata": {
        "id": "6S1FNNJaB0QN"
      },
      "execution_count": null,
      "outputs": []
    },
    {
      "cell_type": "code",
      "source": [
        "sns.barplot(x=df['Gpu'],y=df['Price'],errorbar=None,order=sorted_gpulist,\n",
        "            palette='Reds',hue=df['Gpu'],hue_order=sorted_gpulist[::-1])\n",
        "plt.xticks(rotation=90)\n",
        "plt.show()"
      ],
      "metadata": {
        "id": "o22Hy0MPEPf7"
      },
      "execution_count": null,
      "outputs": []
    },
    {
      "cell_type": "code",
      "source": [
        "df.sample()"
      ],
      "metadata": {
        "id": "C8Q3VK0wFLM9"
      },
      "execution_count": null,
      "outputs": []
    },
    {
      "cell_type": "code",
      "source": [
        "print(df['OpSys'].value_counts())"
      ],
      "metadata": {
        "id": "FiLJm0X9FYy_"
      },
      "execution_count": null,
      "outputs": []
    },
    {
      "cell_type": "code",
      "source": [
        "def fetch_os_name(os):\n",
        "    if os==\"Windows 10 S\":\n",
        "        return \"Windows 10\"\n",
        "    elif os==\"macOS\" or os==\"Mac OS X\":\n",
        "        return \"MacOS\"\n",
        "    elif os==\"Android\" or os==\"Chrome OS\" or os==\"Linux\":\n",
        "        return \"Linux/Chrome OS/Others\"\n",
        "    else:\n",
        "        return os"
      ],
      "metadata": {
        "id": "oGxJZyv9FjtG"
      },
      "execution_count": null,
      "outputs": []
    },
    {
      "cell_type": "code",
      "source": [
        "df['OpSys']=df['OpSys'].apply(fetch_os_name)"
      ],
      "metadata": {
        "id": "3t4xCP4IHMyv"
      },
      "execution_count": null,
      "outputs": []
    },
    {
      "cell_type": "code",
      "source": [
        "print(df['OpSys'].value_counts())"
      ],
      "metadata": {
        "id": "CEme17KIHXvF"
      },
      "execution_count": null,
      "outputs": []
    },
    {
      "cell_type": "code",
      "source": [
        "sorted_oslist = df.groupby('OpSys')['Price'].mean().sort_values(ascending=False).index\n",
        "sorted_oslist"
      ],
      "metadata": {
        "id": "Sq12HTdoHcu4"
      },
      "execution_count": null,
      "outputs": []
    },
    {
      "cell_type": "code",
      "source": [
        "sns.barplot(x=df['OpSys'],y=df['Price'],errorbar=None,order=sorted_oslist,\n",
        "            palette=\"Reds\",hue=df['OpSys'],hue_order=sorted_oslist[::-1])\n",
        "plt.xticks(rotation=90)\n",
        "plt.show()"
      ],
      "metadata": {
        "id": "-q2U1Kh9JTFS"
      },
      "execution_count": null,
      "outputs": []
    },
    {
      "cell_type": "code",
      "source": [
        "print(df['Memory'].value_counts())"
      ],
      "metadata": {
        "id": "3BrA-5mMJzgq"
      },
      "execution_count": null,
      "outputs": []
    },
    {
      "cell_type": "code",
      "source": [
        "a = \"512GB SSD + 1.0TB Hybrid\"\n",
        "a.replace(r\"\\.0\",\"\")"
      ],
      "metadata": {
        "id": "0iMmlsJ6KMeD"
      },
      "execution_count": null,
      "outputs": []
    },
    {
      "cell_type": "code",
      "source": [
        "# SSD\n",
        "# HDD\n",
        "# SSD + HDD\n",
        "# Flash Storage\n",
        "# Hybrid\n",
        "# SSD + SSD\n",
        "# Flash Storage + SSD\n",
        "# HDD + HDD\n",
        "# SSD + Hybrid\n",
        "\n",
        "# SSD   HDD     Flash Storage       Hybrid\n",
        "# Regex (regular expression)"
      ],
      "metadata": {
        "id": "Wv5Sqam1O16g"
      },
      "execution_count": null,
      "outputs": []
    },
    {
      "cell_type": "code",
      "source": [
        "df['Memory']=df['Memory'].astype(str).replace(r\"\\.0\",\"\",regex=True)"
      ],
      "metadata": {
        "id": "qosqoncVO6yJ"
      },
      "execution_count": null,
      "outputs": []
    },
    {
      "cell_type": "code",
      "source": [
        "print(df['Memory'].value_counts())"
      ],
      "metadata": {
        "id": "9t98wWeBQxxz"
      },
      "execution_count": null,
      "outputs": []
    },
    {
      "cell_type": "code",
      "source": [
        "df['Memory']=df['Memory'].str.replace(\"GB\",\"\")\n",
        "df['Memory']=df['Memory'].str.replace(\"TB\",\"000\")"
      ],
      "metadata": {
        "id": "3zRj12AhQ3AN"
      },
      "execution_count": null,
      "outputs": []
    },
    {
      "cell_type": "code",
      "source": [
        "print(df['Memory'].value_counts())"
      ],
      "metadata": {
        "id": "bpGSChMqRI-P"
      },
      "execution_count": null,
      "outputs": []
    },
    {
      "cell_type": "code",
      "source": [
        "new = df['Memory'].str.split('+',expand=True)\n",
        "df['first']=new[0]\n",
        "df['first']=df['first'].str.strip()\n",
        "df['second']=new[1]"
      ],
      "metadata": {
        "id": "aYjMTy3XRRfa"
      },
      "execution_count": null,
      "outputs": []
    },
    {
      "cell_type": "code",
      "source": [
        "df.sample(3)"
      ],
      "metadata": {
        "id": "kfse6UOgR8_p"
      },
      "execution_count": null,
      "outputs": []
    },
    {
      "cell_type": "code",
      "source": [
        "df['Layer1HDD']=df['first'].astype(str).apply(lambda x:1 if \"HDD\" in x else 0)\n",
        "df['Layer1SSD']=df['first'].astype(str).apply(lambda x:1 if \"SSD\" in x else 0)\n",
        "df['Layer1Hybrid']=df['first'].astype(str).apply(lambda x:1 if \"Hybrid\" in x else 0)\n",
        "df['Layer1Flash_storage']=df['first'].astype(str).apply(lambda x:1 if \"Flash\" in x else 0)"
      ],
      "metadata": {
        "id": "LXG_NZoxR_kA"
      },
      "execution_count": null,
      "outputs": []
    },
    {
      "cell_type": "code",
      "source": [
        "df.sample()"
      ],
      "metadata": {
        "id": "L30INzdaTD8b"
      },
      "execution_count": null,
      "outputs": []
    },
    {
      "cell_type": "code",
      "source": [
        "df['first']=df['first'].str.replace(r\"\\D\",\"\",regex=True)\n",
        "# \\D : any character which is not digit\n",
        "# \\d : any character which is a digit"
      ],
      "metadata": {
        "id": "EH5nxpNYTGcz"
      },
      "execution_count": null,
      "outputs": []
    },
    {
      "cell_type": "code",
      "source": [
        "df.sample()"
      ],
      "metadata": {
        "id": "uiuse8VcTohP"
      },
      "execution_count": null,
      "outputs": []
    },
    {
      "cell_type": "code",
      "source": [
        "df['second'].fillna(\"0\",inplace=True)\n",
        "df['second']=df['second'].str.strip()\n",
        "df['Layer2HDD']=df['second'].apply(lambda x:1 if \"HDD\" in x else 0)\n",
        "df['Layer2SSD']=df['second'].apply(lambda x:1 if \"SSD\" in x else 0)\n",
        "df['Layer2Hybrid']=df['second'].apply(lambda x:1 if \"Hybrid\" in x else 0)\n",
        "df['Layer2Flash_Storage']=df['second'].apply(lambda x:1 if \"Flash\" in x else 0)\n",
        "df['second']=df['second'].str.replace(r\"\\D\",\"\",regex=True)"
      ],
      "metadata": {
        "id": "YbovSYKqTqym"
      },
      "execution_count": null,
      "outputs": []
    },
    {
      "cell_type": "code",
      "source": [
        "df.sample()"
      ],
      "metadata": {
        "id": "sbsoZ1MJVWNH"
      },
      "execution_count": null,
      "outputs": []
    },
    {
      "cell_type": "code",
      "source": [
        "df['first']=df['first'].astype('int')\n",
        "df['second']=df['second'].astype('int')"
      ],
      "metadata": {
        "id": "2AcqtCDAVZAm"
      },
      "execution_count": null,
      "outputs": []
    },
    {
      "cell_type": "code",
      "source": [
        "df['HDD']=df['first']*df['Layer1HDD']+df['second']*df['Layer2HDD']\n",
        "df['SSD']=df['first']*df['Layer1SSD']+df['second']*df['Layer2SSD']\n",
        "df['Hybrid']=df['first']*df['Layer1Hybrid']+df['second']*df['Layer2Hybrid']\n",
        "df['Flash_Storage']=df['first']*df['Layer1Flash_storage']+df['second']*df['Layer2Flash_Storage']"
      ],
      "metadata": {
        "id": "CspVAIdlVmIc"
      },
      "execution_count": null,
      "outputs": []
    },
    {
      "cell_type": "code",
      "source": [
        "df.columns"
      ],
      "metadata": {
        "id": "vlvGalCTdp75"
      },
      "execution_count": null,
      "outputs": []
    },
    {
      "cell_type": "code",
      "source": [
        "df.drop(columns=['first',\n",
        "       'second', 'Layer1HDD', 'Layer1SSD', 'Layer1Hybrid',\n",
        "       'Layer1Flash_storage', 'Layer2HDD', 'Layer2SSD', 'Layer2Hybrid',\n",
        "       'Layer2Flash_Storage'],inplace=True)"
      ],
      "metadata": {
        "id": "4C18zY6lf27n"
      },
      "execution_count": null,
      "outputs": []
    },
    {
      "cell_type": "code",
      "source": [
        "df.columns"
      ],
      "metadata": {
        "id": "WMxIyOshgVFQ"
      },
      "execution_count": null,
      "outputs": []
    },
    {
      "cell_type": "code",
      "source": [
        "df.sample(10)"
      ],
      "metadata": {
        "id": "fjYRHrwUgXDz"
      },
      "execution_count": null,
      "outputs": []
    },
    {
      "cell_type": "code",
      "source": [
        "df.drop(columns=['Memory'],inplace=True)"
      ],
      "metadata": {
        "id": "OjC4KBdCgdcK"
      },
      "execution_count": null,
      "outputs": []
    },
    {
      "cell_type": "code",
      "source": [
        "df.info()"
      ],
      "metadata": {
        "id": "kxQDQ2cDmx-Y"
      },
      "execution_count": null,
      "outputs": []
    },
    {
      "cell_type": "code",
      "source": [
        "df.corr(numeric_only=True)"
      ],
      "metadata": {
        "id": "Hy4-GsGfmzz-"
      },
      "execution_count": null,
      "outputs": []
    },
    {
      "cell_type": "code",
      "source": [
        "sns.heatmap(df.corr(numeric_only=True),cmap='summer')"
      ],
      "metadata": {
        "id": "4PODiXqrm8e3"
      },
      "execution_count": null,
      "outputs": []
    },
    {
      "cell_type": "code",
      "source": [
        "df.corr(numeric_only=True)['Price']"
      ],
      "metadata": {
        "id": "ArGKHQt_nOnm"
      },
      "execution_count": null,
      "outputs": []
    },
    {
      "cell_type": "code",
      "source": [
        "df.drop(columns=['Hybrid','Flash_Storage'],inplace=True)"
      ],
      "metadata": {
        "id": "bw_hZSm2nW9M"
      },
      "execution_count": null,
      "outputs": []
    },
    {
      "cell_type": "code",
      "source": [
        "# screen size       : Inches\n",
        "# screen resolution : X_res, Y_res\n",
        "# resolution: number of pixels on the screen\n",
        "# pixel density"
      ],
      "metadata": {
        "id": "EtDxkBHHnlIi"
      },
      "execution_count": null,
      "outputs": []
    },
    {
      "cell_type": "code",
      "source": [
        "df['PPi']=round((df['X_res']**2+df['Y_res']**2)*0.5/df['Inches'],2)"
      ],
      "metadata": {
        "id": "fUifJ2tonrHi"
      },
      "execution_count": null,
      "outputs": []
    },
    {
      "cell_type": "code",
      "source": [
        "df.corr(numeric_only=True)['Price']"
      ],
      "metadata": {
        "id": "PhucsgPdoCU1"
      },
      "execution_count": null,
      "outputs": []
    },
    {
      "cell_type": "code",
      "source": [
        "df.drop(columns=['X_res','Y_res','Inches'],inplace=True)"
      ],
      "metadata": {
        "id": "T_bMQInAoHeT"
      },
      "execution_count": null,
      "outputs": []
    },
    {
      "cell_type": "code",
      "source": [
        "sns.boxplot(x=df['Price'], color='orange')"
      ],
      "metadata": {
        "id": "-GNIoohwoc2V"
      },
      "execution_count": null,
      "outputs": []
    },
    {
      "cell_type": "code",
      "source": [
        "sns.kdeplot(df[df['Price']<280000]['Price'])"
      ],
      "metadata": {
        "id": "48NZVQ3Aoh3o"
      },
      "execution_count": null,
      "outputs": []
    },
    {
      "cell_type": "code",
      "source": [
        "X=df.drop(columns=['Price'])\n",
        "y=df['Price']"
      ],
      "metadata": {
        "id": "DgabKTz0pGm9"
      },
      "execution_count": null,
      "outputs": []
    },
    {
      "cell_type": "code",
      "source": [
        "from sklearn.model_selection import train_test_split\n",
        "X_train,X_test,y_train,y_test=train_test_split(X,y,test_size=0.15,random_state=42)"
      ],
      "metadata": {
        "id": "gfUZf9fMqHIe"
      },
      "execution_count": null,
      "outputs": []
    },
    {
      "cell_type": "code",
      "source": [
        "X.shape,X_train.shape,X_test.shape"
      ],
      "metadata": {
        "id": "y2_KRSpwqjb6"
      },
      "execution_count": null,
      "outputs": []
    },
    {
      "cell_type": "code",
      "source": [
        "from sklearn.linear_model import LinearRegression, Ridge, Lasso\n",
        "from sklearn.tree import DecisionTreeRegressor\n",
        "from sklearn.svm import SVR\n",
        "from sklearn.neighbors import KNeighborsRegressor\n",
        "from sklearn.ensemble import RandomForestRegressor, GradientBoostingRegressor, AdaBoostRegressor\n",
        "from xgboost import XGBRegressor"
      ],
      "metadata": {
        "id": "h355Gyl4syU4"
      },
      "execution_count": null,
      "outputs": []
    },
    {
      "cell_type": "code",
      "source": [
        "from sklearn.preprocessing import OneHotEncoder, StandardScaler\n",
        "from sklearn.compose import ColumnTransformer\n",
        "from sklearn.pipeline import Pipeline"
      ],
      "metadata": {
        "id": "XQQ_YVOt12fu"
      },
      "execution_count": null,
      "outputs": []
    },
    {
      "cell_type": "code",
      "source": [
        "from sklearn.metrics import r2_score, mean_absolute_error, root_mean_squared_error"
      ],
      "metadata": {
        "id": "5mKkR-Cu2cpF"
      },
      "execution_count": null,
      "outputs": []
    },
    {
      "cell_type": "code",
      "source": [
        "\n",
        "# - Encoding : process of converting text data to numerical data\n",
        "# -  Label Encoding (output Labels)\n",
        "#    - LabelEncoder\n",
        "# - Feature Encoding(input features)\n",
        "#     - Oridinal Encoding : Very Good(2), Poor(0), Excellent(3), Satisfactory(1)\n",
        "#         - OridinalEncoder\n",
        "#     - Nominal Enciding : Man/Woman, Apple/Acer/Dell/Hp\n",
        "#         - OneHotEncoder"
      ],
      "metadata": {
        "id": "UTaVaAoU2llj"
      },
      "execution_count": null,
      "outputs": []
    },
    {
      "cell_type": "code",
      "source": [
        "\n",
        "# Company     Company_HP  Company_Ap\n",
        "# Apple            0           1\n",
        "# Apple            0           1\n",
        "# HP               1           0\n",
        "# Apple            0           1\n",
        "# Dell             0           0\n",
        "# HP               1           0\n",
        "# Dell             0           0\n",
        "# Apple            0           1\n"
      ],
      "metadata": {
        "id": "uATNS-IM4RSy"
      },
      "execution_count": null,
      "outputs": []
    },
    {
      "cell_type": "code",
      "source": [
        "X_train.sample()"
      ],
      "metadata": {
        "id": "Q094be2m4vYi"
      },
      "execution_count": null,
      "outputs": []
    },
    {
      "cell_type": "code",
      "source": [
        "# Linear Regression\n",
        "ct_ohe= ColumnTransformer(transformers=[('col_tnf',OneHotEncoder(drop='first'),[0,1,2,4,5])],remainder='passthrough')\n",
        "reg_model= LinearRegression()\n",
        "pipe=Pipeline([('s1',ct_ohe),('s2',reg_model)])\n",
        "\n",
        "pipe.fit(X_train,y_train)\n",
        "y_pred=pipe.predict(X_test)\n",
        "print(\"R2 score:\",r2_score(y_test,y_pred))\n",
        "print(\"MAE:\",mean_absolute_error(y_test,y_pred))\n",
        "print(\"RMSE:\",root_mean_squared_error(y_test,y_pred))"
      ],
      "metadata": {
        "id": "4AE4OROW6c-t"
      },
      "execution_count": null,
      "outputs": []
    },
    {
      "cell_type": "code",
      "source": [
        "# Regularization Technique\n",
        "    #  - Lasso()\n",
        "    #  - Ridge()"
      ],
      "metadata": {
        "id": "lI2QnIQ-NCaf"
      },
      "execution_count": null,
      "outputs": []
    },
    {
      "cell_type": "code",
      "source": [
        "X_train.sample()"
      ],
      "metadata": {
        "id": "tqHCZOBdNVX8"
      },
      "execution_count": null,
      "outputs": []
    },
    {
      "cell_type": "code",
      "source": [
        "# y=mx+c\n",
        "# y=m1x1+m2x2+m3x3+... +c\n",
        "# price=b1.RAM +b2.weight+b3.cpu+b4.cpu_speed+.....+b0"
      ],
      "metadata": {
        "id": "2abLXcTuNZna"
      },
      "execution_count": null,
      "outputs": []
    },
    {
      "cell_type": "code",
      "source": [
        "# query=np.array([[\"Dell\",\"Notebook\",\"Intel Core i5\",16,\"Intel HD\",\"Windows 10\",2.0,0,0,2.2,0,512,141.2]])\n",
        "# pipe.predict(query)"
      ],
      "metadata": {
        "id": "MM_yYmwrNeKm"
      },
      "execution_count": null,
      "outputs": []
    },
    {
      "cell_type": "code",
      "source": [
        "# Multi-collinearity\n",
        "# Overfitting"
      ],
      "metadata": {
        "id": "BIhOCbKZNgBC"
      },
      "execution_count": null,
      "outputs": []
    },
    {
      "cell_type": "code",
      "source": [
        "# Ridge Regression : L2 Regularization : penalty : square of coefficient\n",
        "ct_ohe = ColumnTransformer(transformers=[('col_tnf',OneHotEncoder(drop='first'),[0,1,2,4,5])],remainder='passthrough')\n",
        "reg_model =LinearRegression()\n",
        "pipe=Pipeline([('s1',ct_ohe),('s2',reg_model)])\n",
        "\n",
        "pipe.fit(X_train,y_train)\n",
        "y_pred=pipe.predict(X_test)\n",
        "print(\"R2 score\",r2_score(y_test,y_pred))\n",
        "print(\"MAE\",mean_absolute_error(y_test,y_pred))\n",
        "print(\"RMSE\",root_mean_squared_error(y_test,y_pred))"
      ],
      "metadata": {
        "id": "pTkaYCjDNjgp"
      },
      "execution_count": null,
      "outputs": []
    },
    {
      "cell_type": "code",
      "source": [
        "# Lasso Regression : L1 regularization : panalty : absolute value of cofficients\n",
        "# internal automatic feature selection\n",
        "\n",
        "# Whwn is Lasso useful ?\n",
        "    #  - When you have many features, and you think not all are useful.\n",
        "    #  - you suspect some features are not important\n",
        "    #  - you wnat a simpler model\n",
        "\n",
        "# Lasso is very sensitive to feature scaling\n",
        "# if your feature are on very diffrent scales, it is good idea to normalize or standarslize them\n",
        "# we will standardize numeric features using standardscaler."
      ],
      "metadata": {
        "id": "2yrRRVOsQGFM"
      },
      "execution_count": null,
      "outputs": []
    },
    {
      "cell_type": "code",
      "source": [
        "# Lasso Regression\n",
        "categorical_feature=[0,1,2,4,5]\n",
        "numerical_features = [3,6,7,8,9,10,11,12]\n",
        "preprocessor= ColumnTransformer(transformers=[\n",
        "    ('cat',OneHotEncoder(drop='first'),categorical_feature),\n",
        "    ('num',StandardScaler(),numerical_features)\n",
        "])\n",
        "reg_model= Lasso(alpha=0.01,max_iter=100000)\n",
        "pipe=Pipeline([('s1',preprocessor),('s2',reg_model)])\n",
        "\n",
        "pipe.fit(X_train,y_train)\n",
        "y_pred=pipe.predict(X_test)\n",
        "print(\"R2 score:\",r2_score(y_test,y_pred))\n",
        "print(\"MAE:\",mean_absolute_error(y_test,y_pred))\n",
        "print(\"RMSE:\",root_mean_squared_error(y_test,y_pred))"
      ],
      "metadata": {
        "id": "H2B_EO5qR_Ui"
      },
      "execution_count": null,
      "outputs": []
    },
    {
      "cell_type": "code",
      "source": [
        "# Decision Tree Regression\n",
        "ct_ohe = ColumnTransformer(transformers=[('col_tnf',OneHotEncoder(drop='first'),[0,1,2,4,5])],remainder='passthrough')\n",
        "reg_model =DecisionTreeRegressor(max_depth=11)\n",
        "pipe=Pipeline([('s1',ct_ohe),('s2',reg_model)])\n",
        "\n",
        "pipe.fit(X_train,y_train)\n",
        "y_pred=pipe.predict(X_test)\n",
        "print(\"R2 score:\",r2_score(y_test,y_pred))\n",
        "print(\"MAE:\",mean_absolute_error(y_test,y_pred))\n",
        "print(\"RMSE:\",root_mean_squared_error(y_test,y_pred))"
      ],
      "metadata": {
        "id": "2fKOgygOUKVl"
      },
      "execution_count": null,
      "outputs": []
    },
    {
      "cell_type": "code",
      "source": [
        "# KNN(KNeighborrsRegressor)"
      ],
      "metadata": {
        "id": "sGvijMh5Y3zY"
      },
      "execution_count": null,
      "outputs": []
    },
    {
      "cell_type": "code",
      "source": [
        "# K Neighbors Regression\n",
        "ct_ohe = ColumnTransformer(transformers=[('col_tnf',OneHotEncoder(drop='first'),[0,1,2,4,5])],remainder='passthrough')\n",
        "reg_model =KNeighborsRegressor(n_neighbors=10)\n",
        "pipe=Pipeline([('s1',ct_ohe),('s2',reg_model)])\n",
        "\n",
        "pipe.fit(X_train,y_train)\n",
        "y_pred=pipe.predict(X_test)\n",
        "print(\"R2 score:\",r2_score(y_test,y_pred))\n",
        "print(\"MAE:\",mean_absolute_error(y_test,y_pred))\n",
        "print(\"RMSE:\",root_mean_squared_error(y_test,y_pred))"
      ],
      "metadata": {
        "id": "wx18Eg5hZJrf"
      },
      "execution_count": null,
      "outputs": []
    },
    {
      "cell_type": "code",
      "source": [
        "# Adabost Regression\n",
        "ct_ohe = ColumnTransformer(transformers=[('col_tnf',OneHotEncoder(drop='first'),[0,1,2,4,5])],remainder='passthrough')\n",
        "reg_model =AdaBoostRegressor(n_estimators=100,random_state=42,learning_rate=0.1)\n",
        "pipe=Pipeline([('s1',ct_ohe),('s2',reg_model)])\n",
        "\n",
        "pipe.fit(X_train,y_train)\n",
        "y_pred=pipe.predict(X_test)\n",
        "print(\"R2 score:\",r2_score(y_test,y_pred))\n",
        "print(\"MAE:\",mean_absolute_error(y_test,y_pred))\n",
        "print(\"RMSE:\",root_mean_squared_error(y_test,y_pred))"
      ],
      "metadata": {
        "id": "R8V4SOlJZPgo"
      },
      "execution_count": null,
      "outputs": []
    },
    {
      "cell_type": "code",
      "source": [
        "# Ensemble : combination of multiple algorithms\n",
        "# Crowd always known best answer\n",
        "\n",
        "# Homogenous ensemble : algorithms for all models in esemble are in same\n",
        "# Heterogenous ensemble : algorithms are diffrents"
      ],
      "metadata": {
        "id": "SfLiEcDAZ1jP"
      },
      "execution_count": null,
      "outputs": []
    },
    {
      "cell_type": "code",
      "source": [
        "# Type of Ensemble Models\n",
        "    # Voting\n",
        "    # Stacking\n",
        "    # Bagging : Bootstrap + Aggregation (Homogenous ensemble)\n",
        "        # Random Forest : base estimator is always Decision Tree\n",
        "    # Boosting"
      ],
      "metadata": {
        "id": "vn9PLTbWq-Qm"
      },
      "execution_count": null,
      "outputs": []
    },
    {
      "cell_type": "code",
      "source": [
        "# AddaBoost\n",
        "# Adaoative Boosting"
      ],
      "metadata": {
        "id": "latYx02Urn20"
      },
      "execution_count": null,
      "outputs": []
    },
    {
      "cell_type": "code",
      "source": [
        "# Random Forest\n",
        "#   2 sources of randomness\n",
        "#       - Bootstrap sampling\n",
        "#       - Random Feature Selection"
      ],
      "metadata": {
        "id": "D67j78QSrxDy"
      },
      "execution_count": null,
      "outputs": []
    },
    {
      "cell_type": "code",
      "source": [
        "# RandomForest Regression\n",
        "categorical_features =[0,1,2,4,5]\n",
        "numerical_features  = [3,6,7,8,9,10,11,12]\n",
        "preprocessor= ColumnTransformer(transformers=[\n",
        "    ('cat',OneHotEncoder(drop='first'),categorical_feature),\n",
        "    ('num',StandardScaler(),numerical_features)\n",
        "])\n",
        "reg_model =RandomForestRegressor(random_state=30,n_estimators=500,max_depth=12)\n",
        "pipe=Pipeline([('s1',preprocessor),('s2',reg_model)])\n",
        "\n",
        "pipe.fit(X_train,y_train)\n",
        "y_pred=pipe.predict(X_test)\n",
        "print(\"R2 score:\",r2_score(y_test,y_pred))\n",
        "print(\"MAE:\",mean_absolute_error(y_test,y_pred))\n",
        "print(\"RMSE:\",root_mean_squared_error(y_test,y_pred))"
      ],
      "metadata": {
        "id": "1ZLb5YcDsL9W"
      },
      "execution_count": null,
      "outputs": []
    },
    {
      "cell_type": "code",
      "source": [
        "# Gradient Boosting\n",
        "    # Gradient Descent"
      ],
      "metadata": {
        "id": "-q63W4ditz7E"
      },
      "execution_count": null,
      "outputs": []
    },
    {
      "cell_type": "code",
      "source": [
        "# XGB Regression\n",
        "categorical_features =[0,1,2,4,5]\n",
        "numerical_features  = [3,6,7,8,9,10,11,12]\n",
        "preprocessor= ColumnTransformer(transformers=[\n",
        "    ('cat',OneHotEncoder(drop='first'),categorical_feature),\n",
        "    ('num',StandardScaler(),numerical_features)\n",
        "])\n",
        "reg_model = XGBRegressor(random_state=15,n_estimators=950, learning_rate=0.1,\n",
        "                         max_depth=2, reg_lambda=1, reg_alpha=0.5,subsample=0.8)\n",
        "pipe=Pipeline([('s1',preprocessor),('s2',reg_model)])\n",
        "\n",
        "pipe.fit(X_train,y_train)\n",
        "y_pred=pipe.predict(X_test)\n",
        "print(\"R2 score:\",r2_score(y_test,y_pred))\n",
        "print(\"MAE:\",mean_absolute_error(y_test,y_pred))\n",
        "print(\"RMSE:\",root_mean_squared_error(y_test,y_pred))"
      ],
      "metadata": {
        "id": "h1WeUxK4uAgy"
      },
      "execution_count": null,
      "outputs": []
    },
    {
      "cell_type": "code",
      "source": [
        "# GridSearch CV\n",
        "from sklearn.model_selection import GridSearchCV"
      ],
      "metadata": {
        "id": "c0fQ2KYBuE10"
      },
      "execution_count": null,
      "outputs": []
    },
    {
      "cell_type": "code",
      "source": [
        "# # GradientBoosting Regression\n",
        "# categorical_features=[0,1,2,4,5]\n",
        "# numerical_features=[3,6,7,8,9,10,11,12]\n",
        "# preprocessor= ColumnTransformer(transformers=[\n",
        "#     ('cat',OneHotEncoder(drop='first'),categorical_features),\n",
        "#     ('num',StandardScaler(),numerical_features)\n",
        "#     ])\n",
        "# reg_model= GradientBoostingRegressor(random_state=15)\n",
        "# pipe=Pipeline([('s1',preprocessor),('regressor',reg_model)])\n",
        "# param_grid={\n",
        "#     'regressor__n_estimators':[100,200,500,1000],\n",
        "#     'regressor__learning_rate':[0.05,0.1,0.2],\n",
        "#     'regressor__max_depth':[3,4,5,8,10,12],\n",
        "#     'regressor__subsample':[0.8,1.0]\n",
        "\n",
        "# }\n",
        "# grid_search=GridSearchCV(pipe,param_grid,cv=3,scoring='r2',verbose=1,n_jobs=-1)\n",
        "# grid_search.fit(X_train,y_train)\n",
        "# best_model=grid_search.best_estimator_\n",
        "# y_pred=best_model.predict(X_test)\n",
        "# print(\"R2 score:\",r2_score(y_test,y_pred))\n",
        "# print(\"MAE:\",mean_absolute_error(y_test,y_pred))\n",
        "# print(\"RMSE:\",root_mean_squared_error(y_test,y_pred))"
      ],
      "metadata": {
        "id": "PcXqL70kvjI5"
      },
      "execution_count": null,
      "outputs": []
    },
    {
      "cell_type": "code",
      "source": [
        "# GradientBoosting Regression\n",
        "categorical_features=[0,1,2,4,5]\n",
        "numerical_features=[3,6,7,8,9,10,11,12]\n",
        "preprocessor= ColumnTransformer(transformers=[\n",
        "    ('cat',OneHotEncoder(drop='first'),categorical_features),\n",
        "    ('num',StandardScaler(),numerical_features)\n",
        "    ])\n",
        "reg_model= GradientBoostingRegressor(random_state=15,n_estimators=950, learning_rate=0.1,max_depth=2)\n",
        "pipe=Pipeline([('s1',preprocessor),('s2',reg_model)])\n",
        "\n",
        "pipe.fit(X_train,y_train)\n",
        "y_pred=pipe.predict(X_test)\n",
        "print(\"R2 score:\",r2_score(y_test,y_pred))\n",
        "print(\"MAE:\",mean_absolute_error(y_test,y_pred))\n",
        "print(\"RMSE:\",root_mean_squared_error(y_test,y_pred))"
      ],
      "metadata": {
        "id": "R6Q41yb2vjw5"
      },
      "execution_count": null,
      "outputs": []
    },
    {
      "cell_type": "code",
      "source": [
        "X_train.sample()"
      ],
      "metadata": {
        "id": "fZ-yLBjk38tv"
      },
      "execution_count": null,
      "outputs": []
    },
    {
      "cell_type": "code",
      "source": [
        "query=[['HP','Ultrabook','Intel Core i5',16,'Intel HD','Windows 10',2.2,0,0,2.0,0,512,144]]"
      ],
      "metadata": {
        "id": "bvJbzJG_4CdN"
      },
      "execution_count": null,
      "outputs": []
    },
    {
      "cell_type": "code",
      "source": [
        "op=pipe.predict(query)"
      ],
      "metadata": {
        "id": "Y5dvchqL4R-D"
      },
      "execution_count": null,
      "outputs": []
    },
    {
      "cell_type": "code",
      "source": [
        "op"
      ],
      "metadata": {
        "id": "QIT__ek_4WyC"
      },
      "execution_count": null,
      "outputs": []
    },
    {
      "cell_type": "code",
      "source": [
        "print(\"The estimated price of the laptop with the above metioned space is  ₹\"+str(int(round(op[0],-2)))+\".\" )"
      ],
      "metadata": {
        "id": "-hBY3GFU4XqS"
      },
      "execution_count": null,
      "outputs": []
    },
    {
      "cell_type": "code",
      "source": [
        "# Deployment"
      ],
      "metadata": {
        "id": "ztNSkhUa4orc"
      },
      "execution_count": null,
      "outputs": []
    },
    {
      "cell_type": "code",
      "source": [
        "# Streamlit\n",
        "# Strimlit cloud\n",
        "# Github"
      ],
      "metadata": {
        "id": "mlNvfRef41iz"
      },
      "execution_count": null,
      "outputs": []
    },
    {
      "cell_type": "code",
      "source": [
        "import pickle\n",
        "pickle.dump(pipe,open('pipe.pkl','wb'))\n",
        "pickle.dump(df,open('df.pkl','wb'))"
      ],
      "metadata": {
        "id": "z3NMjRsl4-Ip"
      },
      "execution_count": null,
      "outputs": []
    },
    {
      "cell_type": "code",
      "source": [
        "!pip install Streamlit --quiet"
      ],
      "metadata": {
        "id": "M1U0Zh0_5Qti"
      },
      "execution_count": null,
      "outputs": []
    },
    {
      "cell_type": "code",
      "source": [
        "%%writefile laptop_app.py\n",
        "import streamlit as st\n",
        "# import pickle\n",
        "# df=pickle.load(open('df.pkl','rb'))\n",
        "# pipe=pickle.load(open('pipe.pkl','rb'))\n",
        "import joblib\n",
        "pipe=joblib.load('pipe_compressed')\n",
        "df-joblib.load('df')\n",
        "st.title(\"Laptop Price Predictor App\")\n",
        "st.text(\"This app is using only a select few laptops(around 1200 laptops), so it may not align exactly with real world data\")\n",
        "\n",
        "company=st.selectbox(\"Manufacturer of the Laptop\",df['Company'].unique(),index=4)\n",
        "typename=st.radio(\"Type of the Laptop\",df['TypeName'].unique(),horizontal=True,index=1)\n",
        "cpu=st.selectbox(\"Processor\",df['Cpu'].unique())\n",
        "ram=st.pills(\"RAM on the system(in GB)\",[4,8,12,16,24,32,64,128])\n",
        "gpu=st.radio(\"Graphics Card\",df['Gpu'].unique(),index=1,horizontal=True)\n",
        "os=st.selectbox(\"Operating System\",df['OpSys'].unique(),index=2)\n",
        "weight=st.slider(\"Weight of the laptop(in kg)\",min_value=0.7,max_value=4.8,step=0.1,value=2.1)\n",
        "touchscreen=st.pills(\"Does the laptop have touchscreen?\",['Yes','No'])\n",
        "ips=st.pills(\"Does the laptop have an IPS display?\",['Yes','No'])\n",
        "cpu_speed=st.slider(\"Clock Speed of CPU(in GHz)\",min_value=0.9,max_value=3.6,step=0.1,value=2.3)\n",
        "hdd=st.pills(\"Hard disk size on the system(in GB). If only SSD is present, select this is as 0\",\n",
        "             [0,512,1024,2000])\n",
        "ssd=st.pills(\"SSD storage on the system(in GB).\",[0,256,512,1024,2000])\n",
        "screen_size=st.slider(\"Screen size(measured diagonally, in inches)\",min_value=10.0,max_value=18.4,value=15.6,step=0.1)\n",
        "screen_resolution=st.selectbox(\"Laptop Screen Resolution (in pixels)\",\n",
        " [\"2560x1600\",\"1440x900\",\"1920x1080\",\"2880x1800\",\"1366x768\",\"2304x1440\",\"3200x1800\",\"1920x1200\",\"2256x1504\",\n",
        "  \"3840x2160\",\"2160x1440\",\"2560x1440\",\"1600x900\",\"2736x1824\",\"2400x1600\"],index=2)\n",
        "\n",
        "if st.button(\"PREDICT PRICE\"):\n",
        "    if touchscreen == 'Yes':\n",
        "        touchscreen=1\n",
        "    else:\n",
        "        touchscreen=0\n",
        "    if ips == 'Yes':\n",
        "        ips=1\n",
        "    else:\n",
        "        ips=0\n",
        "    X_res=int(screen_resolution.split('x')[0])\n",
        "    Y_res=int(screen_resolution.split('x')[1])\n",
        "    ppi = ((X_res**2)+(Y_res**2))**0.5/screen_size\n",
        "    query=[[company,typename,cpu,ram,gpu,os,weight,touchscreen,ips,cpu_speed,hdd,ssd,ppi]]\n",
        "    op=pipe.predict(query)\n",
        "    st.subheader(\"The estimated price of the laptop with the above mentioned specs is ₹\"+str(int(round(op[0],-2)))+\".\")"
      ],
      "metadata": {
        "id": "PO20zTqJ5YkR"
      },
      "execution_count": null,
      "outputs": []
    },
    {
      "cell_type": "code",
      "source": [
        "df.sample()"
      ],
      "metadata": {
        "id": "MAGAs0n05m8b"
      },
      "execution_count": null,
      "outputs": []
    },
    {
      "cell_type": "code",
      "source": [
        "df['Cpu_Speed'].describe()"
      ],
      "metadata": {
        "id": "37MZA2am783P"
      },
      "execution_count": null,
      "outputs": []
    },
    {
      "cell_type": "code",
      "source": [
        "!streamlit run laptop_app.py & npx localtunnel --port 8501"
      ],
      "metadata": {
        "id": "nKesmQDR8CFa"
      },
      "execution_count": null,
      "outputs": []
    },
    {
      "cell_type": "code",
      "source": [
        "import sklearn\n",
        "sklearn.__version__"
      ],
      "metadata": {
        "id": "PNeRwYCIAWZQ"
      },
      "execution_count": null,
      "outputs": []
    },
    {
      "cell_type": "code",
      "source": [
        "import joblib"
      ],
      "metadata": {
        "id": "u_1DES8VUUSu"
      },
      "execution_count": null,
      "outputs": []
    },
    {
      "cell_type": "code",
      "source": [
        "pipe"
      ],
      "metadata": {
        "id": "j73dmdq-NYjw"
      },
      "execution_count": null,
      "outputs": []
    },
    {
      "cell_type": "code",
      "source": [
        "pipe.steps"
      ],
      "metadata": {
        "id": "OoBNqdfZNZuY"
      },
      "execution_count": null,
      "outputs": []
    },
    {
      "cell_type": "code",
      "source": [
        "joblib.dump(pipe,'pipe_compressed',compress=3)"
      ],
      "metadata": {
        "id": "XSCgfmL4Nvdg"
      },
      "execution_count": null,
      "outputs": []
    },
    {
      "cell_type": "code",
      "source": [
        "model_reg=joblib.load('pipe_compressed')"
      ],
      "metadata": {
        "id": "I738Vyt4N-3_"
      },
      "execution_count": null,
      "outputs": []
    },
    {
      "cell_type": "code",
      "source": [
        "\n",
        "joblib.dump(df,'df')"
      ],
      "metadata": {
        "id": "4kHSJRaMOIpQ"
      },
      "execution_count": null,
      "outputs": []
    },
    {
      "cell_type": "code",
      "source": [
        "model_reg.steps"
      ],
      "metadata": {
        "id": "VQcqkTwEONUF"
      },
      "execution_count": null,
      "outputs": []
    },
    {
      "cell_type": "code",
      "source": [],
      "metadata": {
        "id": "3gefUV3IOUVB"
      },
      "execution_count": null,
      "outputs": []
    }
  ]
}
