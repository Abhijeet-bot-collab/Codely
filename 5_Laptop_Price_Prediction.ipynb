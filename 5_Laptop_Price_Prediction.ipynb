{
  "nbformat": 4,
  "nbformat_minor": 0,
  "metadata": {
    "colab": {
      "private_outputs": true,
      "provenance": []
    },
    "kernelspec": {
      "name": "python3",
      "display_name": "Python 3"
    },
    "language_info": {
      "name": "python"
    }
  },
  "cells": [
    {
      "cell_type": "code",
      "execution_count": null,
      "metadata": {
        "id": "-Os9ivZLRJDI"
      },
      "outputs": [],
      "source": [
        "import numpy as np\n",
        "import pandas as pd\n",
        "import matplotlib.pyplot as plt\n",
        "import seaborn as sns"
      ]
    },
    {
      "cell_type": "code",
      "source": [
        "df = pd.read_csv(\"/content/drive/MyDrive/7_CSV FILE/laptop_price.csv\",encoding='latin')\n",
        "df"
      ],
      "metadata": {
        "id": "-oZTocQ4cTNm"
      },
      "execution_count": null,
      "outputs": []
    },
    {
      "cell_type": "code",
      "source": [
        "df.drop(columns=['laptop_ID'], inplace=True)"
      ],
      "metadata": {
        "id": "8UNM_nvvce94"
      },
      "execution_count": null,
      "outputs": []
    },
    {
      "cell_type": "code",
      "source": [
        "print(df.isnull().sum())"
      ],
      "metadata": {
        "id": "GHOZcqFQcv__"
      },
      "execution_count": null,
      "outputs": []
    },
    {
      "cell_type": "code",
      "source": [
        "df.duplicated().sum()"
      ],
      "metadata": {
        "id": "dsC2MP7dc3Us"
      },
      "execution_count": null,
      "outputs": []
    },
    {
      "cell_type": "code",
      "source": [
        "df[df.duplicated()]"
      ],
      "metadata": {
        "id": "kGqiruofc-VG"
      },
      "execution_count": null,
      "outputs": []
    },
    {
      "cell_type": "code",
      "source": [
        "df.drop_duplicates(inplace=True)"
      ],
      "metadata": {
        "id": "v4f5doPYdFF9"
      },
      "execution_count": null,
      "outputs": []
    },
    {
      "cell_type": "code",
      "source": [
        "df.duplicated().sum()"
      ],
      "metadata": {
        "id": "DTwb0ntUdR-e"
      },
      "execution_count": null,
      "outputs": []
    },
    {
      "cell_type": "code",
      "source": [
        "df.info()"
      ],
      "metadata": {
        "id": "cCJpwLVqelpQ"
      },
      "execution_count": null,
      "outputs": []
    },
    {
      "cell_type": "code",
      "source": [
        "df.sample(5)"
      ],
      "metadata": {
        "id": "-iFcuFhkeojb"
      },
      "execution_count": null,
      "outputs": []
    },
    {
      "cell_type": "code",
      "source": [
        "df.head(3)"
      ],
      "metadata": {
        "id": "0H26sRu4e2Ad"
      },
      "execution_count": null,
      "outputs": []
    },
    {
      "cell_type": "code",
      "source": [
        "df['Price']=round(df['Price_euros']*103.44,-2).astype('int')"
      ],
      "metadata": {
        "id": "-L30vSUHe_CL"
      },
      "execution_count": null,
      "outputs": []
    },
    {
      "cell_type": "code",
      "source": [
        "df.drop(columns=['Price_euros'],inplace=True)"
      ],
      "metadata": {
        "id": "dZ2oz4nilS0r"
      },
      "execution_count": null,
      "outputs": []
    },
    {
      "cell_type": "code",
      "source": [
        "sns.displot(df['Price'],kde=True)"
      ],
      "metadata": {
        "id": "6AYO5jpNxUsV"
      },
      "execution_count": null,
      "outputs": []
    },
    {
      "cell_type": "code",
      "source": [
        "sns.kdeplot(np.log(df['Price']))"
      ],
      "metadata": {
        "id": "-I_rdv4ixbb1"
      },
      "execution_count": null,
      "outputs": []
    },
    {
      "cell_type": "code",
      "source": [
        "# Right skewed data"
      ],
      "metadata": {
        "id": "A9qYYXUc1TXA"
      },
      "execution_count": null,
      "outputs": []
    },
    {
      "cell_type": "code",
      "source": [
        "sns.kdeplot(np.log(df['Price']))"
      ],
      "metadata": {
        "id": "IfBisOX4aNIc"
      },
      "execution_count": null,
      "outputs": []
    },
    {
      "cell_type": "code",
      "source": [
        "np.exp(np.log(df['Price']))"
      ],
      "metadata": {
        "id": "Iz5IpGhx1b99"
      },
      "execution_count": null,
      "outputs": []
    },
    {
      "cell_type": "code",
      "source": [
        "print(df['Company'].value_counts())"
      ],
      "metadata": {
        "id": "7m9RPhTkaA50"
      },
      "execution_count": null,
      "outputs": []
    },
    {
      "cell_type": "code",
      "source": [
        "df['Company'].value_counts().plot(kind='bar')"
      ],
      "metadata": {
        "id": "nRKVe3hHauUI"
      },
      "execution_count": null,
      "outputs": []
    },
    {
      "cell_type": "code",
      "source": [
        "len(df['Company'].value_counts())"
      ],
      "metadata": {
        "id": "XJaPe-adbEk7"
      },
      "execution_count": null,
      "outputs": []
    },
    {
      "cell_type": "code",
      "source": [
        "print(df.groupby('Company')['Company'].count().sort_values(ascending=False))"
      ],
      "metadata": {
        "id": "74u7QYaVbSH7"
      },
      "execution_count": null,
      "outputs": []
    },
    {
      "cell_type": "code",
      "source": [
        "df.groupby('Company')['Company'].transform('count')"
      ],
      "metadata": {
        "id": "feAFxAG3bldg"
      },
      "execution_count": null,
      "outputs": []
    },
    {
      "cell_type": "code",
      "source": [
        "df['Company']"
      ],
      "metadata": {
        "id": "_RYRTBcqb3X7"
      },
      "execution_count": null,
      "outputs": []
    },
    {
      "cell_type": "code",
      "source": [
        "df = df[df.groupby('Company')['Company'].transform('count')>20]"
      ],
      "metadata": {
        "id": "soOo-Vm7b9XI"
      },
      "execution_count": null,
      "outputs": []
    },
    {
      "cell_type": "code",
      "source": [
        "df.reset_index(drop=True,inplace=True)"
      ],
      "metadata": {
        "id": "2CDH8XSGcRaR"
      },
      "execution_count": null,
      "outputs": []
    },
    {
      "cell_type": "code",
      "source": [
        "df"
      ],
      "metadata": {
        "id": "So5mKRHEceEx"
      },
      "execution_count": null,
      "outputs": []
    },
    {
      "cell_type": "code",
      "source": [
        "print(df['Company'].value_counts())"
      ],
      "metadata": {
        "id": "S1bqQsincesu"
      },
      "execution_count": null,
      "outputs": []
    },
    {
      "cell_type": "code",
      "source": [
        "df['Company'].value_counts().plot(kind='bar')"
      ],
      "metadata": {
        "id": "h2_FZzL7coeE"
      },
      "execution_count": null,
      "outputs": []
    },
    {
      "cell_type": "code",
      "source": [
        "df.groupby('Company')['Price'].mean().sort_values(ascending=False)"
      ],
      "metadata": {
        "id": "xoAZkA1vc7jH"
      },
      "execution_count": null,
      "outputs": []
    },
    {
      "cell_type": "code",
      "source": [
        "sorted_company_list=df.groupby('Company')[\"Price\"].mean().sort_values(ascending=False).index\n",
        "sorted_company_list"
      ],
      "metadata": {
        "id": "dGu_mXGUdJ_2"
      },
      "execution_count": null,
      "outputs": []
    },
    {
      "cell_type": "code",
      "source": [
        "sorted_company_list[::-1]"
      ],
      "metadata": {
        "id": "bR_b8Y82dkda"
      },
      "execution_count": null,
      "outputs": []
    },
    {
      "cell_type": "code",
      "source": [
        "sns.color_palette('Greens')"
      ],
      "metadata": {
        "id": "KLefjN6KdpFe"
      },
      "execution_count": null,
      "outputs": []
    },
    {
      "cell_type": "code",
      "source": [
        "sns.barplot(x=df['Company'],y=df['Price'],errorbar=None,order=sorted_company_list,\n",
        "            hue=df['Company'],palette='Greens',hue_order=sorted_company_list[::-1])"
      ],
      "metadata": {
        "id": "6bq0oBDkdzCt"
      },
      "execution_count": null,
      "outputs": []
    },
    {
      "cell_type": "code",
      "source": [
        "df.sample()"
      ],
      "metadata": {
        "id": "fevyhc3KeccH"
      },
      "execution_count": null,
      "outputs": []
    },
    {
      "cell_type": "code",
      "source": [
        "print(df['Product'].value_counts())"
      ],
      "metadata": {
        "id": "-5O_ohNYe8_Q"
      },
      "execution_count": null,
      "outputs": []
    },
    {
      "cell_type": "code",
      "source": [
        "df.drop(columns=['Product'],inplace=True)"
      ],
      "metadata": {
        "id": "lpkgackbfIN0"
      },
      "execution_count": null,
      "outputs": []
    },
    {
      "cell_type": "code",
      "source": [
        "print(df['TypeName'].value_counts())"
      ],
      "metadata": {
        "id": "98dg7lYGfSfK"
      },
      "execution_count": null,
      "outputs": []
    },
    {
      "cell_type": "code",
      "source": [
        "df['TypeName'].value_counts().plot(kind='bar')"
      ],
      "metadata": {
        "id": "LicHE8c_fbRS"
      },
      "execution_count": null,
      "outputs": []
    },
    {
      "cell_type": "code",
      "source": [
        "df.groupby('TypeName')['Price'].mean().sort_values(ascending=False)"
      ],
      "metadata": {
        "id": "QQ4cz4-vflKP"
      },
      "execution_count": null,
      "outputs": []
    },
    {
      "cell_type": "code",
      "source": [
        "sorted_typelist=df.groupby('TypeName')['Price'].mean().sort_values(ascending=False).index\n",
        "sorted_typelist"
      ],
      "metadata": {
        "id": "Tf-ezqlafyor"
      },
      "execution_count": null,
      "outputs": []
    },
    {
      "cell_type": "code",
      "source": [
        "sns.barplot(x=df['TypeName'],y=df['Price'],errorbar=None,order=sorted_typelist,\n",
        "            palette='Greens',hue=df['TypeName'],hue_order=sorted_typelist[::-1])\n",
        "plt.xticks(rotation=90)\n",
        "plt.show()"
      ],
      "metadata": {
        "id": "dRLQNYTpgxuw"
      },
      "execution_count": null,
      "outputs": []
    },
    {
      "cell_type": "code",
      "source": [
        "df.sample()"
      ],
      "metadata": {
        "id": "MSir0u15hkSE"
      },
      "execution_count": null,
      "outputs": []
    },
    {
      "cell_type": "code",
      "source": [
        "print(df['Inches'].value_counts())"
      ],
      "metadata": {
        "id": "OzrKcW8jh3PM"
      },
      "execution_count": null,
      "outputs": []
    },
    {
      "cell_type": "code",
      "source": [
        "sns.histplot(df['Inches'],kde=True)"
      ],
      "metadata": {
        "id": "4Feuscgwh_6A"
      },
      "execution_count": null,
      "outputs": []
    },
    {
      "cell_type": "code",
      "source": [
        "sns.scatterplot(x=df['Inches'],y=df['Price'])"
      ],
      "metadata": {
        "id": "jWJ-9kZeiMoL"
      },
      "execution_count": null,
      "outputs": []
    },
    {
      "cell_type": "code",
      "source": [
        "print(df['ScreenResolution'].value_counts())"
      ],
      "metadata": {
        "id": "RjxGjx3aigvO"
      },
      "execution_count": null,
      "outputs": []
    },
    {
      "cell_type": "code",
      "source": [
        "a=\"Ips Panel Full HD / Tuchscreen 1920x1800\"\n",
        "a.split()[-1].split('x')[0]"
      ],
      "metadata": {
        "id": "t7CFeRqs3qIN"
      },
      "execution_count": null,
      "outputs": []
    },
    {
      "cell_type": "code",
      "source": [
        "(lambda a:a.split()[-1].split('x')[0])(\"IPS Panel Full HD / Touchscreen 1920x1080\")"
      ],
      "metadata": {
        "id": "6WZZ48jY6qU9"
      },
      "execution_count": null,
      "outputs": []
    },
    {
      "cell_type": "code",
      "source": [
        "df['X_res']=df['ScreenResolution'].apply(lambda a:a.split()[-1].split('x')[0]).astype('int')\n",
        "df['Y_res']=df['ScreenResolution'].apply(lambda a:a.split()[-1].split('x')[1]).astype('int')\n",
        "df['Touchscreen']=df['ScreenResolution'].apply(lambda a:1 if \"Touchscreen\" in a else 0)\n",
        "df['Ips']=df['ScreenResolution'].apply(lambda a:1 if \"IPS\" in a else 0)"
      ],
      "metadata": {
        "id": "UBdiDkhq7hm2"
      },
      "execution_count": null,
      "outputs": []
    },
    {
      "cell_type": "code",
      "source": [
        "df.sample(5\n",
        "          )"
      ],
      "metadata": {
        "id": "IfabBdc6-Dvu"
      },
      "execution_count": null,
      "outputs": []
    },
    {
      "cell_type": "code",
      "source": [
        "df.drop(columns=['ScreenResolution'],inplace=True)"
      ],
      "metadata": {
        "id": "Gx9tA12-Ak9t"
      },
      "execution_count": null,
      "outputs": []
    },
    {
      "cell_type": "code",
      "source": [
        "df.sample()"
      ],
      "metadata": {
        "id": "zwRDWFhSA01j"
      },
      "execution_count": null,
      "outputs": []
    },
    {
      "cell_type": "code",
      "source": [
        "df['Touchscreen'].value_counts().plot(kind='bar')"
      ],
      "metadata": {
        "id": "HXKEmdSWA3Os"
      },
      "execution_count": null,
      "outputs": []
    },
    {
      "cell_type": "code",
      "source": [
        "sns.barplot(x=df['Touchscreen'],y=df['Price'])"
      ],
      "metadata": {
        "id": "M4t3o8IpA_tc"
      },
      "execution_count": null,
      "outputs": []
    },
    {
      "cell_type": "code",
      "source": [
        "sns.barplot(x=df['Ips'],y=df['Price'],errorbar=None)"
      ],
      "metadata": {
        "id": "irkBPUQmBN2E"
      },
      "execution_count": null,
      "outputs": []
    },
    {
      "cell_type": "code",
      "source": [
        "print(df['Cpu'].value_counts())"
      ],
      "metadata": {
        "id": "pzYiFFAgBe5G"
      },
      "execution_count": null,
      "outputs": []
    },
    {
      "cell_type": "code",
      "source": [
        "df['Cpu_Speed']=df['Cpu'].apply(lambda x:x.split()[-1].replace('GHz',\"\")).astype('float')"
      ],
      "metadata": {
        "id": "jpSVuueaBqjd"
      },
      "execution_count": null,
      "outputs": []
    },
    {
      "cell_type": "code",
      "source": [
        "df.sample(5)"
      ],
      "metadata": {
        "id": "ZPJ2hKpNCV8s"
      },
      "execution_count": null,
      "outputs": []
    },
    {
      "cell_type": "code",
      "source": [
        "df['Cpu']=df['Cpu'].apply(lambda x:\" \".join(x.split()[0:3]))"
      ],
      "metadata": {
        "id": "-H85l9_wCZee"
      },
      "execution_count": null,
      "outputs": []
    },
    {
      "cell_type": "code",
      "source": [
        "print(df['Cpu'].value_counts())"
      ],
      "metadata": {
        "id": "zgXMvFc0DEoE"
      },
      "execution_count": null,
      "outputs": []
    },
    {
      "cell_type": "code",
      "source": [
        "def fetch_processor_name(proc):\n",
        "    if proc.split()[0]=='Intel':\n",
        "        if proc.split()[1]=='Core':\n",
        "            return proc\n",
        "        else:\n",
        "            return \" \".join(proc.split()[0:2])\n",
        "    else:\n",
        "        if proc[4]==\"E\":\n",
        "            return \"AMD E-Series\"\n",
        "        elif proc[4]=='R':\n",
        "            return \"AMD Ryzen Series\"\n",
        "        elif proc[4]=='A':\n",
        "            return \"AMD A series\"\n",
        "        else:\n",
        "            return \"AMD FX Series\""
      ],
      "metadata": {
        "id": "XEZizxp7DL_w"
      },
      "execution_count": null,
      "outputs": []
    },
    {
      "cell_type": "code",
      "source": [
        "df['Cpu']=df['Cpu'].apply(fetch_processor_name)"
      ],
      "metadata": {
        "id": "S368n7caEzla"
      },
      "execution_count": null,
      "outputs": []
    },
    {
      "cell_type": "code",
      "source": [
        "print(df['Cpu'].value_counts())"
      ],
      "metadata": {
        "id": "zptG3Q-eE-zx"
      },
      "execution_count": null,
      "outputs": []
    },
    {
      "cell_type": "code",
      "source": [
        "df['Cpu'].value_counts().plot(kind='bar')"
      ],
      "metadata": {
        "id": "V6BPMtCAHkeR"
      },
      "execution_count": null,
      "outputs": []
    },
    {
      "cell_type": "code",
      "source": [
        "sorted_cpulist=df.groupby('Cpu')['Price'].mean().sort_values(ascending=False).index\n",
        "sorted_cpulist"
      ],
      "metadata": {
        "id": "b_s35t7uIV50"
      },
      "execution_count": null,
      "outputs": []
    },
    {
      "cell_type": "code",
      "source": [
        "sns.barplot(x=df['Cpu'],y=df['Price'],errorbar=None,order=sorted_cpulist,\n",
        "            palette='Greens',hue=df['Cpu'],hue_order=sorted_cpulist[::-1])\n",
        "plt.xticks(rotation=90)\n",
        "plt.show()"
      ],
      "metadata": {
        "id": "VNjRZO8MJ47L"
      },
      "execution_count": null,
      "outputs": []
    },
    {
      "cell_type": "code",
      "source": [
        "df['Ram']=df['Ram'].apply(lambda x:x.replace(\"GB\",\"\")).astype('int')\n",
        "df['Weight']=df['Weight'].apply(lambda x:x.replace(\"kg\",\"\")).astype('float')"
      ],
      "metadata": {
        "id": "zko9oV3xJJF3"
      },
      "execution_count": null,
      "outputs": []
    },
    {
      "cell_type": "code",
      "source": [
        "df['Ram'].value_counts().plot(kind='bar')"
      ],
      "metadata": {
        "id": "paDRnruuJtnA"
      },
      "execution_count": null,
      "outputs": []
    },
    {
      "cell_type": "code",
      "source": [
        "sns.barplot(x=df['Ram'],y=df['Price'],errorbar=None,hue=df['Ram'],palette=\"Greens\")"
      ],
      "metadata": {
        "id": "MJL9JW_iN8mS"
      },
      "execution_count": null,
      "outputs": []
    },
    {
      "cell_type": "code",
      "source": [
        "print(df['Gpu'].value_counts())"
      ],
      "metadata": {
        "id": "5R3JoARZOQn7"
      },
      "execution_count": null,
      "outputs": []
    },
    {
      "cell_type": "code",
      "source": [
        "df['Gpu']=df['Gpu'].apply(lambda x:\" \".join(x.split()[0:2]))"
      ],
      "metadata": {
        "id": "77p1maKytD5E"
      },
      "execution_count": null,
      "outputs": []
    },
    {
      "cell_type": "code",
      "source": [
        "print(df['Gpu'].value_counts())"
      ],
      "metadata": {
        "id": "u0dEtUB54OFS"
      },
      "execution_count": null,
      "outputs": []
    },
    {
      "cell_type": "code",
      "source": [
        "def fetch_gpu_name(text):\n",
        "    if text.split()[0]=='AMD':\n",
        "        return \"AMD GPU\"\n",
        "    elif text==\"Intel Graphics\":\n",
        "        return \"Intel HD\"\n",
        "    elif text== \"Nvidia GTX\":\n",
        "        return \"Nvidia GeForce\"\n",
        "    else:\n",
        "        return text"
      ],
      "metadata": {
        "id": "UMhJWh_l4Vsw"
      },
      "execution_count": null,
      "outputs": []
    },
    {
      "cell_type": "code",
      "source": [
        "df['Gpu']=df['Gpu'].apply(fetch_gpu_name)"
      ],
      "metadata": {
        "id": "yDGtXIMt5GUY"
      },
      "execution_count": null,
      "outputs": []
    },
    {
      "cell_type": "code",
      "source": [
        "print(df['Gpu'].value_counts())"
      ],
      "metadata": {
        "id": "dMQhqsYx5ORe"
      },
      "execution_count": null,
      "outputs": []
    },
    {
      "cell_type": "code",
      "source": [
        "df['Gpu'].value_counts().plot(kind='bar')"
      ],
      "metadata": {
        "id": "v9I9QA-H5XVR"
      },
      "execution_count": null,
      "outputs": []
    },
    {
      "cell_type": "code",
      "source": [
        "sorted_gpulist=df.groupby('Gpu')['Price'].mean().sort_values(ascending=False).index\n",
        "sorted_gpulist"
      ],
      "metadata": {
        "id": "Dgblo_345wHG"
      },
      "execution_count": null,
      "outputs": []
    },
    {
      "cell_type": "code",
      "source": [
        "sns.barplot(x=df['Gpu'], y=df['Price'],errorbar=None,order=sorted_gpulist,\n",
        "            palette=\"Greens\",hue=df['Gpu'],hue_order=sorted_gpulist[::-1])\n",
        "plt.xticks(rotation=90)\n",
        "plt.show()"
      ],
      "metadata": {
        "id": "e6IsE-B56oFp"
      },
      "execution_count": null,
      "outputs": []
    },
    {
      "cell_type": "code",
      "source": [
        "print(df['OpSys'].value_counts())"
      ],
      "metadata": {
        "id": "R4USNclx7S8F"
      },
      "execution_count": null,
      "outputs": []
    },
    {
      "cell_type": "code",
      "source": [
        "def fetch_os_name(os):\n",
        "    if os==\"Windows 10 S\":\n",
        "        return \"Windows 10\"\n",
        "    elif os == \"macOS\" or os == \"Chrome OS\" or os == \"Linux\":\n",
        "        return \"MacOS\"\n",
        "    elif os == \"Android\" or os == \"Chrome OS\" or os == \"Linux\":\n",
        "        return \"Linux/Chrome OS/Others\"\n",
        "    else:\n",
        "        return os"
      ],
      "metadata": {
        "id": "2dk1TdZE7xiV"
      },
      "execution_count": null,
      "outputs": []
    },
    {
      "cell_type": "code",
      "source": [
        "df[\"OpSys\"]=df[\"OpSys\"].apply(fetch_os_name)"
      ],
      "metadata": {
        "id": "CI8u05Gp81TZ"
      },
      "execution_count": null,
      "outputs": []
    },
    {
      "cell_type": "code",
      "source": [
        "print(df['OpSys'].value_counts())"
      ],
      "metadata": {
        "id": "-_R_EdsGL1yw"
      },
      "execution_count": null,
      "outputs": []
    },
    {
      "cell_type": "code",
      "source": [
        "sorted_oslist=df.groupby('OpSys')['Price'].mean().sort_values(ascending=False).index\n",
        "sorted_oslist"
      ],
      "metadata": {
        "id": "mFf2qjMlL8gc"
      },
      "execution_count": null,
      "outputs": []
    },
    {
      "cell_type": "code",
      "source": [
        "sns.barplot(x=df['OpSys'],y=df['Price'],errorbar=None,order=sorted_oslist,\n",
        "            palette=\"Greens\",hue=df[\"OpSys\"],hue_order=sorted_oslist[::-1])\n",
        "plt.xticks(rotation=90)\n",
        "plt.show()"
      ],
      "metadata": {
        "id": "BPZqIkP5PVTP"
      },
      "execution_count": null,
      "outputs": []
    },
    {
      "cell_type": "code",
      "source": [
        "print(df['Memory'].value_counts())"
      ],
      "metadata": {
        "id": "LcT1sqxLQSYO"
      },
      "execution_count": null,
      "outputs": []
    },
    {
      "cell_type": "code",
      "source": [
        "a = \"512GB SSD + 1.0TB Hybrid\"\n",
        "a.replace(r\"\\.0\",\"\")"
      ],
      "metadata": {
        "id": "xGN3JX2fQhbs"
      },
      "execution_count": null,
      "outputs": []
    },
    {
      "cell_type": "code",
      "source": [
        "# SSD\n",
        "# HDD\n",
        "# SSD + HDD\n",
        "# Flash Storage\n",
        "# Hybrid\n",
        "# SSD + SSD\n",
        "# Flash Storage + SSD\n",
        "# HDD + HDD\n",
        "# SSD + Hybrid\n",
        "\n",
        "# SSD   HDD     Flash Storage       Hybrid\n",
        "# Regex (regular expression)"
      ],
      "metadata": {
        "id": "KKWFT5IHRUCJ"
      },
      "execution_count": null,
      "outputs": []
    },
    {
      "cell_type": "code",
      "source": [
        "df['Memory']=df['Memory'].astype(str).replace(r\"\\.0\",\"\",regex=True)"
      ],
      "metadata": {
        "id": "MSi_BBpvRXWu"
      },
      "execution_count": null,
      "outputs": []
    },
    {
      "cell_type": "code",
      "source": [
        "# 1TB = 1000GB"
      ],
      "metadata": {
        "id": "pQaP4pf-YDly"
      },
      "execution_count": null,
      "outputs": []
    },
    {
      "cell_type": "code",
      "source": [
        "print(df['Memory'].value_counts())"
      ],
      "metadata": {
        "id": "ki6jhnGjYO2l"
      },
      "execution_count": null,
      "outputs": []
    },
    {
      "cell_type": "code",
      "source": [
        "new=df['Memory'].str.split('+',expand=True)\n",
        "df['first']=new[0]\n",
        "df['first']=df['first'].str.strip()\n",
        "df['second']=new[1]"
      ],
      "metadata": {
        "id": "n5VJhOQqYVMe"
      },
      "execution_count": null,
      "outputs": []
    },
    {
      "cell_type": "code",
      "source": [
        "df.sample(3)"
      ],
      "metadata": {
        "id": "_5J008aYzLAG"
      },
      "execution_count": null,
      "outputs": []
    },
    {
      "cell_type": "code",
      "source": [
        "df['Layer1HDD']=df['first'].apply(lambda x:1 if \"HDD\" in x else 0)\n",
        "df['Layer1SDD']=df['first'].apply(lambda x:1 if \"SDD\" in x else 0)\n",
        "df['Layer1Hybrid']=df['first'].apply(lambda x:1 if \"Hybrid\" in x else 0)\n",
        "df['Layer1Flash_Storage']=df['first'].apply(lambda x:1 if \"Flash\" in x else 0)"
      ],
      "metadata": {
        "id": "pIWahee3zM8z"
      },
      "execution_count": null,
      "outputs": []
    },
    {
      "cell_type": "code",
      "source": [
        "df.sample(3)"
      ],
      "metadata": {
        "id": "Tc0WFtAs0DVV"
      },
      "execution_count": null,
      "outputs": []
    },
    {
      "cell_type": "code",
      "source": [
        "df['first']=df['first'].str.replace(r\"\\D\",\"\",regex=True)\n",
        "# \\D : any character which is not a digit\n",
        "# \\d : any character which id digit"
      ],
      "metadata": {
        "id": "j4YbkZ3P0GAo"
      },
      "execution_count": null,
      "outputs": []
    },
    {
      "cell_type": "code",
      "source": [
        "df.sample(3)"
      ],
      "metadata": {
        "id": "RLGyuohc0h7E"
      },
      "execution_count": null,
      "outputs": []
    },
    {
      "cell_type": "code",
      "source": [
        "df['second'].fillna(\"0\",inplace=True)\n",
        "df[\"second\"]=df[\"second\"].str.strip()\n",
        "df[\"Layer2HDD\"]=df['second'].apply(lambda x:1 if \"HDD\" in x else 0)\n",
        "df[\"Layer2SDD\"]=df[\"second\"].apply(lambda x:1 if \"SDD\" in x else 0)\n",
        "df[\"Layer2Hybrid\"]=df['second'].apply(lambda x:1 if \"Hybrid\" in x else 0)\n",
        "df[\"Layer2Flash_storage\"]=df['second'].apply(lambda x:1 if \"Flash\" in x else 0)\n",
        "df['second']=df[\"second\"].str.replace(r\"\\D\",\"\",regex=True)"
      ],
      "metadata": {
        "id": "A0abkKIs03ZW"
      },
      "execution_count": null,
      "outputs": []
    },
    {
      "cell_type": "code",
      "source": [
        "df.sample()"
      ],
      "metadata": {
        "id": "L1WuPyj66lVh"
      },
      "execution_count": null,
      "outputs": []
    },
    {
      "cell_type": "code",
      "source": [
        "df['first']=df['first'].astype('int')\n",
        "df['second']=df['second'].astype('int')"
      ],
      "metadata": {
        "id": "-OMiHCcc61ni"
      },
      "execution_count": null,
      "outputs": []
    },
    {
      "cell_type": "code",
      "source": [
        "df[\"HDD\"]=df['first']*df['Layer1HDD']+df['second']*df['Layer2HDD']\n",
        "df[\"SDD\"]=df['first']*df['Layer1SDD']+df['second']*df['Layer2SDD']\n",
        "df['Hybrid']=df['first']*df['Layer1Hybrid']+df['second']*df['Layer2Hybrid']\n",
        "df['Flash_Storage']=df['first']*df['Layer1Flash_Storage']+df['second']*df['Layer2Flash_storage']"
      ],
      "metadata": {
        "collapsed": true,
        "id": "DvozXoEK7MEN"
      },
      "execution_count": null,
      "outputs": []
    },
    {
      "cell_type": "code",
      "source": [
        "df.columns"
      ],
      "metadata": {
        "id": "gBtWFU9199jv"
      },
      "execution_count": null,
      "outputs": []
    },
    {
      "cell_type": "code",
      "source": [
        "df.drop(columns=['first', 'second', 'Layer1HDD', 'Layer1SDD', 'Layer1Hybrid',\n",
        "       'Layer1Flash_Storage', 'Layer2HDD', 'Layer2SDD', 'Layer2Hybrid',\n",
        "       'Layer2Flash_storage'],inplace=True)"
      ],
      "metadata": {
        "id": "AyQGDgUH-FY6"
      },
      "execution_count": null,
      "outputs": []
    },
    {
      "cell_type": "code",
      "source": [
        "df.sample(10)"
      ],
      "metadata": {
        "id": "JOW4hCCH-hF0"
      },
      "execution_count": null,
      "outputs": []
    },
    {
      "cell_type": "code",
      "source": [
        "df.drop(columns=['Memory'],inplace=True)"
      ],
      "metadata": {
        "id": "YnYR8vni-kAT"
      },
      "execution_count": null,
      "outputs": []
    },
    {
      "cell_type": "code",
      "source": [
        "df.info()"
      ],
      "metadata": {
        "id": "twtZQzuB-s6t"
      },
      "execution_count": null,
      "outputs": []
    },
    {
      "cell_type": "code",
      "source": [
        "df.corr(numeric_only=True)"
      ],
      "metadata": {
        "id": "oJBap_Sk-ucF"
      },
      "execution_count": null,
      "outputs": []
    },
    {
      "cell_type": "code",
      "source": [
        "sns.heatmap(df.corr(numeric_only=True),cmap='summer')"
      ],
      "metadata": {
        "id": "5AKfhtoD-1kf"
      },
      "execution_count": null,
      "outputs": []
    },
    {
      "cell_type": "code",
      "source": [
        "df.corr(numeric_only=True)['Price']"
      ],
      "metadata": {
        "id": "92JQbUMw--_h"
      },
      "execution_count": null,
      "outputs": []
    },
    {
      "cell_type": "code",
      "source": [
        "df.drop(columns=['Hybrid','Flash_Storage'],inplace=True)"
      ],
      "metadata": {
        "id": "qp_jYnV6_V1d"
      },
      "execution_count": null,
      "outputs": []
    },
    {
      "cell_type": "code",
      "source": [
        "# screen size       : Inches\n",
        "# screen resolution : X_res, Y_res\n",
        "# resolution: number of pixels on the screen\n",
        "# pixel density"
      ],
      "metadata": {
        "id": "JOSWFPILANqZ"
      },
      "execution_count": null,
      "outputs": []
    },
    {
      "cell_type": "code",
      "source": [
        "df['ppi']=round((df['X_res']**2+df['Y_res']**2)**0.5/df['Inches'],2)"
      ],
      "metadata": {
        "id": "lL2pO46rAQTD"
      },
      "execution_count": null,
      "outputs": []
    },
    {
      "cell_type": "code",
      "source": [
        "df.corr(numeric_only=True)['Price']"
      ],
      "metadata": {
        "id": "nFjKEo-zAm5L"
      },
      "execution_count": null,
      "outputs": []
    },
    {
      "cell_type": "code",
      "source": [
        "df.drop(columns=['X_res','Y_res','Inches'],inplace=True)"
      ],
      "metadata": {
        "id": "LjLQDTOUAtt1"
      },
      "execution_count": null,
      "outputs": []
    },
    {
      "cell_type": "code",
      "source": [
        "df.sample()"
      ],
      "metadata": {
        "id": "OATg2MzLBBHN"
      },
      "execution_count": null,
      "outputs": []
    },
    {
      "cell_type": "code",
      "source": [
        "sns.boxplot(x=df['Price'])"
      ],
      "metadata": {
        "id": "6hf699b9BE9S"
      },
      "execution_count": null,
      "outputs": []
    },
    {
      "cell_type": "code",
      "source": [
        "sns.kdeplot(df[df['Price']<280000]['Price'])"
      ],
      "metadata": {
        "id": "6uCbV3cNBJ_k"
      },
      "execution_count": null,
      "outputs": []
    },
    {
      "cell_type": "code",
      "source": [
        "x=df.drop(columns=['Price'])\n",
        "y=df['Price']"
      ],
      "metadata": {
        "id": "WzNTkvQMBiKR"
      },
      "execution_count": null,
      "outputs": []
    },
    {
      "cell_type": "code",
      "source": [
        "from sklearn.model_selection import train_test_split\n",
        "X_train,X_test,y_train,y_test=train_test_split(x,y,test_size=0.15,random_state=42)"
      ],
      "metadata": {
        "id": "Wr-MLpPjCir-"
      },
      "execution_count": null,
      "outputs": []
    },
    {
      "cell_type": "code",
      "source": [
        "x.shape,X_train.shape,X_test.shape"
      ],
      "metadata": {
        "id": "ex7mqspiC_vH"
      },
      "execution_count": null,
      "outputs": []
    },
    {
      "cell_type": "code",
      "source": [
        "from sklearn.linear_model import LinearRegression , Ridge, Lasso\n",
        "from sklearn.tree import DecisionTreeRegressor\n",
        "from sklearn.svm import SVR\n",
        "from sklearn.neighbors import KNeighborsRegressor\n",
        "from sklearn.ensemble import RandomForestRegressor, GradientBoostingRegressor, AdaBoostRegressor\n",
        "from xgboost import XGBRegressor"
      ],
      "metadata": {
        "id": "IYBfysQOELAh"
      },
      "execution_count": null,
      "outputs": []
    },
    {
      "cell_type": "code",
      "source": [
        "from sklearn.preprocessing import OneHotEncoder, StandardScaler\n",
        "from sklearn.compose import ColumnTransformer\n",
        "from sklearn.pipeline import Pipeline"
      ],
      "metadata": {
        "id": "a8GRucftGGpw"
      },
      "execution_count": null,
      "outputs": []
    },
    {
      "cell_type": "code",
      "source": [
        "from sklearn.metrics import r2_score, mean_absolute_error, root_mean_squared_error"
      ],
      "metadata": {
        "id": "TKn9YDp5GY-j"
      },
      "execution_count": null,
      "outputs": []
    },
    {
      "cell_type": "code",
      "source": [
        "# Encoding : Process of Converting text data to numerical data\n",
        "# Label Encoding (Output Labels)\n",
        "    # LabelEncoder\n",
        "# Feature Encoding (input features)\n",
        "    # Ordinal Encoding : Varry Good(2), Poor(0),Excellent(3), Satisfactory(1)\n",
        "        # OrdinalEncoder\n",
        "    # Nominal Encoding : Man/Woman , Apple/Acer/Del/Hp\n",
        "        # OneHotEncoder"
      ],
      "metadata": {
        "id": "SN_bjhAnGmci"
      },
      "execution_count": null,
      "outputs": []
    },
    {
      "cell_type": "code",
      "source": [
        "X_train.sample()"
      ],
      "metadata": {
        "id": "U_UMiGtAHpEw"
      },
      "execution_count": null,
      "outputs": []
    },
    {
      "cell_type": "code",
      "source": [
        "# Linear Regression\n",
        "ct_ohe= ColumnTransformer(transformers=[('col_tnf',OneHotEncoder(drop='first'),[0,1,2,4,5])],remainder='passthrough')\n",
        "reg_model = LinearRegression()\n",
        "pipe = Pipeline([('s1',ct_ohe),('s2',reg_model)])\n",
        "\n",
        "pipe.fit(X_train,y_train)\n",
        "y_pred=pipe.predict(X_test)\n",
        "print(\"R2 score:\",r2_score(y_test,y_pred))\n",
        "print(\"MAE:\",mean_absolute_error(y_test,y_pred))\n",
        "print(\"RMSE:\",root_mean_squared_error(y_test,y_pred))"
      ],
      "metadata": {
        "id": "MxmPCMSXH73A"
      },
      "execution_count": null,
      "outputs": []
    },
    {
      "cell_type": "code",
      "source": [
        "# Regularization Techniques\n",
        "    # -Lasso()\n",
        "    # -Ridge()"
      ],
      "metadata": {
        "id": "jUAAfe3nVY1M"
      },
      "execution_count": null,
      "outputs": []
    },
    {
      "cell_type": "code",
      "source": [
        "X_train.sample()"
      ],
      "metadata": {
        "id": "G8hD_w92V7IH"
      },
      "execution_count": null,
      "outputs": []
    },
    {
      "cell_type": "code",
      "source": [
        "# y = mx + c\n",
        "# y = m1x1 + m2x2 + m3x3 + ....+ c\n",
        "# price = b1.RAM + b2.weight + b3.cpu_speed +....b0"
      ],
      "metadata": {
        "id": "wlf5hpX5WAHc"
      },
      "execution_count": null,
      "outputs": []
    },
    {
      "cell_type": "code",
      "source": [
        "# query=np.array([[\"Dell\",\"Notebook\",\"Intel Core i5\",16,\"Intel HD\",\"Windows 10\",2.0,0,0,2.2,0,512,141.2]])\n",
        "# pipe.predict(query)"
      ],
      "metadata": {
        "id": "Nd5-8cTgW3XB"
      },
      "execution_count": null,
      "outputs": []
    },
    {
      "cell_type": "code",
      "source": [
        "# Multi-collinearity\n",
        "# Overfitting"
      ],
      "metadata": {
        "id": "iowLCwdGXDJk"
      },
      "execution_count": null,
      "outputs": []
    },
    {
      "cell_type": "code",
      "source": [
        "# Ridgr Regression : L2 Regularization : panalty : squre of cofficients\n",
        "ct_ohe=ColumnTransformer(transformers=[('col_tnf',OneHotEncoder(drop='first'),[0,1,2,4,5])],remainder='passthrough')\n",
        "reg_model = Ridge(alpha=1)\n",
        "pipe=Pipeline([('s1',ct_ohe),('s2',reg_model)])\n",
        "\n",
        "pipe.fit(X_train,y_train)\n",
        "y_pred=pipe.predict(X_test)\n",
        "print(\"R2 score:\",r2_score(y_test,y_pred))\n",
        "print(\"MAE:\",mean_absolute_error(y_test,y_pred))\n",
        "print(\"RMSE:\",root_mean_squared_error(y_test,y_pred))"
      ],
      "metadata": {
        "id": "N_Fj5AWHXOT6"
      },
      "execution_count": null,
      "outputs": []
    },
    {
      "cell_type": "code",
      "source": [
        "# Lasso Regression : L1 regularization : penalty : absolute value cofficients\n",
        "# internal automatic feature selections\n",
        "\n",
        "# When is Lasso useful ?\n",
        "    # - When you have many features, and you think not all are useful\n",
        "    # - you suspect some feature are not important\n",
        "    # - you want a simpler model\n",
        "\n",
        "# Lasso is very sensitive to feature scaling\n",
        "# if your features are on very diffrent scales, it is good idea to normalize or standardize them\n",
        "# we will standardize numeric features using standardscaler"
      ],
      "metadata": {
        "id": "I_Djz358Zx2J"
      },
      "execution_count": null,
      "outputs": []
    },
    {
      "cell_type": "code",
      "source": [
        "# Lasso Regression\n",
        "categorical_features = [0,1,2,4,5]\n",
        "nemurical_features = [3,6,7,9,10,11,12]\n",
        "preprocessor= ColumnTransformer(transformers=[\n",
        "    ('cat',OneHotEncoder(drop='first'),categorical_features),\n",
        "    ('num',StandardScaler(),nemurical_features)\n",
        "])\n",
        "reg_model= Lasso(alpha=0.01,max_iter=100000)\n",
        "pipe=Pipeline([('s1',preprocessor),(\"s2\",reg_model)])\n",
        "\n",
        "pipe.fit(X_train,y_train)\n",
        "y_pred=pipe.predict(X_test)\n",
        "print(\"R2 score:\", r2_score(y_test, y_pred))\n",
        "print(\"MAE:\", mean_absolute_error(y_test,y_pred))\n",
        "print(\"RMSE:\", root_mean_squared_error(y_test,y_pred))"
      ],
      "metadata": {
        "id": "cgdTXkX6bydz"
      },
      "execution_count": null,
      "outputs": []
    },
    {
      "cell_type": "code",
      "source": [
        "X_train.sample()"
      ],
      "metadata": {
        "id": "bfUKIPEWf4O8"
      },
      "execution_count": null,
      "outputs": []
    },
    {
      "cell_type": "code",
      "source": [
        "# Decision Tree Regression\n",
        "ct_ohe= ColumnTransformer(transformers=[('col_tnf',OneHotEncoder(drop='first'),[0,1,2,4,5])],remainder='passthrough')\n",
        "reg_model=DecisionTreeRegressor(max_depth=11)\n",
        "pipe=Pipeline([('s1',ct_ohe),('s2',reg_model)])\n",
        "pipe.fit(X_train,y_train)\n",
        "y_pred=pipe.predict(X_test)\n",
        "print(\"R2 score:\",r2_score(y_test,y_pred))\n",
        "print(\"MAE:\",mean_absolute_error(y_test,y_pred))\n",
        "print(\"RMSE:\",root_mean_squared_error(y_test,y_pred))"
      ],
      "metadata": {
        "id": "r1K0HG-1gZI5"
      },
      "execution_count": null,
      "outputs": []
    },
    {
      "cell_type": "code",
      "source": [
        "# KNN (KNeighborsRegressor)"
      ],
      "metadata": {
        "id": "27AgheFQ90og"
      },
      "execution_count": null,
      "outputs": []
    },
    {
      "cell_type": "code",
      "source": [
        "# K Neighbors Regression\n",
        "ct_ohe = ColumnTransformer(transformers=[('col_tnf',OneHotEncoder(drop='first'),[0,1,2,4,5])],remainder='passthrough')\n",
        "reg_model=KNeighborsRegressor(n_neighbors=10)\n",
        "pipe=Pipeline([('s1',ct_ohe),('s2',reg_model)])\n",
        "\n",
        "pipe.fit(X_train,y_train)\n",
        "y_pred=pipe.predict(X_test)\n",
        "print(\"R2 score:\",r2_score(y_test,y_pred))\n",
        "print(\"MAE:\",mean_absolute_error(y_test,y_pred))\n",
        "print(\"RMSE:\",root_mean_squared_error(y_test,y_pred))"
      ],
      "metadata": {
        "id": "njXK-NdE-jxe"
      },
      "execution_count": null,
      "outputs": []
    },
    {
      "cell_type": "code",
      "source": [
        "# SVR(support Vactor Regressor)\n",
        "categorical_features=[0,1,2,4,5]\n",
        "numerical_features = [3,6,7,9,10,11,12]\n",
        "preprocessor=ColumnTransformer(transformers=[\n",
        "    ('cat:',OneHotEncoder(drop='first'),categorical_features),\n",
        "    ('num:',StandardScaler(),numerical_features)\n",
        "])\n",
        "reg_model=SVR(C=100000)\n",
        "pipe=Pipeline([('s1',preprocessor),('s2',reg_model)])\n",
        "\n",
        "pipe.fit(X_train,y_train)\n",
        "y_pred=pipe.predict(X_test)\n",
        "print(\"R2 score:\",r2_score(y_test,y_pred))\n",
        "print(\"MAE:\",mean_absolute_error(y_test,y_pred))\n",
        "print(\"RMSE:\",root_mean_squared_error(y_test,y_pred))"
      ],
      "metadata": {
        "id": "vFLDb1QjALKX"
      },
      "execution_count": null,
      "outputs": []
    },
    {
      "cell_type": "code",
      "source": [
        "# Adaboost Regression\n",
        "ct_ohe=ColumnTransformer(transformers=[('col_tnf',OneHotEncoder(drop='first'),[0,1,2,4,5])],remainder='passthrough')\n",
        "reg_model= AdaBoostRegressor(n_estimators=100,random_state=42,learning_rate=0.1)\n",
        "pipe=Pipeline([('s1',ct_ohe),('s2',reg_model)])\n",
        "\n",
        "pipe.fit(X_train,y_train)\n",
        "y_pred=pipe.predict(X_test)\n",
        "print(\"R2 score:\",r2_score(y_test,y_pred))\n",
        "print(\"MAE:\",mean_absolute_error(y_test,y_pred))\n",
        "print(\"RMSE:\",root_mean_squared_error(y_test,y_pred))"
      ],
      "metadata": {
        "id": "h6AqKlgACk3u"
      },
      "execution_count": null,
      "outputs": []
    },
    {
      "cell_type": "code",
      "source": [
        "# Ensemble : combition of multiple algorithms\n",
        "# Crowd always best answer\n",
        "\n",
        "# Homogenous ensemble : algorithms for all models in ensemble are same\n",
        "# Heterogenous ensemble : algorithms are diffrent"
      ],
      "metadata": {
        "id": "z2GNFalrGkwf"
      },
      "execution_count": null,
      "outputs": []
    },
    {
      "cell_type": "code",
      "source": [
        "# Type are Ensemble Models\n",
        "    # voting\n",
        "    # Stacking\n",
        "    # Bagging : Bootsrap + Aggregation (Homogenous ensemble )\n",
        "        # Random Forest : base estimator is always Decission Tree\n",
        "    # Boosting"
      ],
      "metadata": {
        "id": "_NDxKl5BHqcC"
      },
      "execution_count": null,
      "outputs": []
    },
    {
      "cell_type": "code",
      "source": [
        "# AdabBoost\n",
        "# Adapative Boosting"
      ],
      "metadata": {
        "id": "hoT8G_YxITFr"
      },
      "execution_count": null,
      "outputs": []
    },
    {
      "cell_type": "code",
      "source": [
        "# Random Forest\n",
        "#   2 sources of ranomness\n",
        "#       - Bootstrap sampling\n",
        "#       - Random feature selectin"
      ],
      "metadata": {
        "id": "Ob2S3tseIgMk"
      },
      "execution_count": null,
      "outputs": []
    },
    {
      "cell_type": "code",
      "source": [
        "# RandomForest Regression\n",
        "categorical_features=[0,1,2,4,5]\n",
        "numerical_features=[3,6,7,9,10,11,12]\n",
        "preprocessor= ColumnTransformer(transformers=[\n",
        "    ('cat',OneHotEncoder(drop='first'),categorical_features),\n",
        "    ('num',StandardScaler(),numerical_features)\n",
        "])\n",
        "reg_model= RandomForestRegressor(random_state=30,n_estimators=500,max_depth=12)\n",
        "pipe=Pipeline([('s1',preprocessor),('s2',reg_model)])\n",
        "\n",
        "pipe.fit(X_train,y_train)\n",
        "y_pred=pipe.predict(X_test)\n",
        "print(\"R2 score:\",r2_score(y_test,y_pred))\n",
        "print(\"MAE:\",mean_absolute_error(y_test,y_pred))\n",
        "print(\"RMSE:\",root_mean_squared_error(y_test,y_pred))"
      ],
      "metadata": {
        "id": "PxRIfa3KI3qO"
      },
      "execution_count": null,
      "outputs": []
    },
    {
      "cell_type": "code",
      "source": [
        "# Gradient Boosting\n",
        "    # Gradient Descent"
      ],
      "metadata": {
        "id": "Kn45xiuoKCjV"
      },
      "execution_count": null,
      "outputs": []
    },
    {
      "cell_type": "code",
      "source": [
        "# XGB Regression\n",
        "categorical_features=[0, 1, 2, 4, 5]\n",
        "numerical_features = [3,6,7,9,10,11,12]\n",
        "preprocessor = ColumnTransformer(transformers=[\n",
        "    ('cat',OneHotEncoder(drop='first'),categorical_features),\n",
        "    ('num',StandardScaler(),numerical_features)\n",
        "])\n",
        "reg_model = XGBRegressor(random_state=15,n_estimators=950,learning_rate=0.1,\n",
        "                         max_depth=3,reg_lambda=1,reg_alpha=0.5,subsample=0.8)\n",
        "pipe=Pipeline([('s1',preprocessor),('s2', reg_model)])\n",
        "\n",
        "pipe.fit(X_train,y_train)\n",
        "y_pred =pipe.predict(X_test)\n",
        "print(\"R2 score:\",r2_score(y_test,y_pred))\n",
        "print(\"MAE:\",mean_absolute_error(y_test,y_pred))\n",
        "print(\"RMSE:\",root_mean_squared_error(y_test,y_pred))"
      ],
      "metadata": {
        "id": "ZZGLHgTJNkxU"
      },
      "execution_count": null,
      "outputs": []
    },
    {
      "cell_type": "code",
      "source": [
        "# GridSearch CV\n",
        "from sklearn.model_selection import GridSearchCV"
      ],
      "metadata": {
        "id": "hOjZwGNs39Yh"
      },
      "execution_count": null,
      "outputs": []
    },
    {
      "cell_type": "code",
      "source": [
        "#  GradientBoosting Regression\n",
        "# categorical_features=[0,1,2,4,5]\n",
        "# numerical_features=[3,6,7,8,9,10,11,12]\n",
        "# preprocessor= ColumnTransformer(transformers=[\n",
        "#     ('cat',OneHotEncoder(drop='first'),categorical_features),\n",
        "#     ('num',StandardScaler(),numerical_features)\n",
        "#     ])\n",
        "# reg_model= GradientBoostingRegressor(random_state=15)\n",
        "# pipe=Pipeline([('s1',preprocessor),('regressor',reg_model)])\n",
        "# param_grid={\n",
        "#     'regressor__n_estimators':[100,200,500,1000],\n",
        "#     'regressor__learning_rate':[0.05,0.1,0.2],\n",
        "#     'regressor__max_depth':[3,4,5,8,10,12],\n",
        "#     'regressor__subsample':[0.8,1.0]\n",
        "\n",
        "# }\n",
        "# grid_search=GridSearchCV(pipe,param_grid,cv=3,scoring='r2',verbose=1,n_jobs=-1)\n",
        "# grid_search.fit(X_train,y_train)\n",
        "# best_model=grid_search.best_estimator_\n",
        "# y_pred=best_model.predict(X_test)\n",
        "# print(\"R2 score:\",r2_score(y_test,y_pred))\n",
        "# print(\"MAE:\",mean_absolute_error(y_test,y_pred))\n",
        "# print(\"RMSE:\",root_mean_squared_error(y_test,y_pred))"
      ],
      "metadata": {
        "id": "Znx1ylAa4MlP"
      },
      "execution_count": null,
      "outputs": []
    },
    {
      "cell_type": "code",
      "source": [
        "# GradientBoosting Regression\n",
        "categorical_features = [0, 1, 2, 4, 5]\n",
        "numerical_features   = [3,6,7,8,9,10,11,12]\n",
        "preprocessor = ColumnTransformer(transformers=[\n",
        "    ('cat',OneHotEncoder(drop='first'),categorical_features),\n",
        "    ('num',StandardScaler(),numerical_features)\n",
        "])\n",
        "reg_model= GradientBoostingRegressor(random_state=15,n_estimators=950,learning_rate=0.1,max_depth=2)\n",
        "pipe.fit(X_train,y_train)\n",
        "y_pred=pipe.predict(X_test)\n",
        "print(\"R2 score\",r2_score(y_test,y_pred))\n",
        "print(\"MAE\",mean_absolute_error(y_test, y_pred))\n",
        "print(\"RMSE\",root_mean_squared_error(y_test,y_pred))"
      ],
      "metadata": {
        "id": "crV_-LqDtD53"
      },
      "execution_count": null,
      "outputs": []
    },
    {
      "cell_type": "code",
      "source": [
        "X_train.sample()"
      ],
      "metadata": {
        "id": "5uy5-yGyu3V1"
      },
      "execution_count": null,
      "outputs": []
    },
    {
      "cell_type": "code",
      "source": [
        "query=[['HP','Ultrabook','Intel Core i5',16,'Intel HD','Windows 10',2.2,0,0,2.0,0,512,144]]"
      ],
      "metadata": {
        "id": "AqLUOtPiu9LU"
      },
      "execution_count": null,
      "outputs": []
    },
    {
      "cell_type": "code",
      "source": [
        "pipe.predict(query)"
      ],
      "metadata": {
        "id": "3R_litDFa17a"
      },
      "execution_count": null,
      "outputs": []
    },
    {
      "cell_type": "code",
      "source": [
        "# Deployment"
      ],
      "metadata": {
        "id": "7PQGyVbXa60n"
      },
      "execution_count": null,
      "outputs": []
    },
    {
      "cell_type": "code",
      "source": [
        "# Streamlit\n",
        "# Streamlit cloud\n",
        "# GitHub"
      ],
      "metadata": {
        "id": "Ngt8fChIbJX0"
      },
      "execution_count": null,
      "outputs": []
    },
    {
      "cell_type": "code",
      "source": [
        "!pip install streamlit --quiet"
      ],
      "metadata": {
        "id": "kdoTZxhXbVHY"
      },
      "execution_count": null,
      "outputs": []
    },
    {
      "cell_type": "code",
      "source": [
        "%%writefile laptop_app.py\n",
        "import streamlit as st\n",
        "import pickle\n",
        "df=pickle.load(open('df.pkl','rb'))\n",
        "pipe=pickle.load(open('pipe.pkl','rb'))\n",
        "st.title(\"Laptop price predictor App\")\n",
        "st.text(\"This app is using only a select few laptops (around 1200 laptops), so it may notalign exactly real world data\")\n",
        "\n",
        "company=st.selectbox(\"Manufacturer of the laptop\",df['Company'].unique(),index=4)\n",
        "typename=st.radio(\"Type of the Laptop\",df['Typename'].unique(),horizontal=True,index=1)\n",
        "cpu=st.selectbox(\"Processor\",df['Cpu'].unique())\n",
        "ram=st.pills(\"Ram on the system(in GB)\",[4,8,12,16,24,32,64,128])\n",
        "gpu=st.radio(\"Graphics Card\",df[\"Gpu\"].unique(),horizontal=True)\n",
        "os=st.selectbox(\"Opreating System\",df[\"OpSys\"].unique(),index=2)"
      ],
      "metadata": {
        "id": "h9Tude8hbbsw"
      },
      "execution_count": null,
      "outputs": []
    },
    {
      "cell_type": "code",
      "source": [
        "df.sample()"
      ],
      "metadata": {
        "id": "8y0ffnhUb6UD"
      },
      "execution_count": null,
      "outputs": []
    },
    {
      "cell_type": "code",
      "source": [
        "df[\"OpSys\"].unique()"
      ],
      "metadata": {
        "id": "E0Jn2mFVfzst"
      },
      "execution_count": null,
      "outputs": []
    },
    {
      "cell_type": "code",
      "source": [
        "import pickle\n",
        "pickle.dump(pipe,open('pipe.pkl','wb'))\n",
        "pickle.dump(df,open('df.pkl','wb'))"
      ],
      "metadata": {
        "id": "EN1rclZFf8mI"
      },
      "execution_count": null,
      "outputs": []
    },
    {
      "cell_type": "code",
      "source": [
        "%%writefile laptop_app.py\n",
        "import streamlit as st\n",
        "import pickle\n",
        "df=pickle.load(open('df.pkl','rb'))\n",
        "pipe=pickle.load(open('pipe.pkl','rb'))\n",
        "st.title(\"Laptop Price Predictor App\")\n",
        "st.text(\"This app is using only a select few laptops(around 1200 laptops), so it may not align exactly with real world data\")\n",
        "\n",
        "company=st.selectbox(\"Manufacturer of the Laptop\",df['Company'].unique(),index=4)\n",
        "typename=st.radio(\"Type of the Laptop\",df['TypeName'].unique(),horizontal=True,index=1)\n",
        "cpu=st.selectbox(\"Processor\",df['Cpu'].unique())\n",
        "ram=st.pills(\"RAM on the system(in GB)\",[4,8,12,16,24,32,64,128])\n",
        "gpu=st.radio(\"Graphics Card\",df['Gpu'].unique(),index=1,horizontal=True)\n",
        "os=st.selectbox(\"Operating System\",df['OpSys'].unique(),index=2)\n",
        "weight=st.slider(\"Weight of the laptop(in kg)\",min_value=0.7,max_value=4.8,step=0.1,value=2.1)\n",
        "touchscreen=st.pills(\"Does the laptop have touchscreen?\",['Yes','No'])\n",
        "ips=st.pills(\"Does the laptop have an IPS display?\",['Yes','No'])\n",
        "cpu_speed=st.slider(\"Clock Speed of CPU(in GHz)\",min_value=0.9,max_value=3.6,step=0.1,value=2.3)\n",
        "hdd=st.pills(\"Hard disk size on the system(in GB). If only SSD is present, select this is as 0\",\n",
        "             [0,512,1024,2000])\n",
        "ssd=st.pills(\"SSD storage on the system(in GB).\",[0,256,512,1024,2000])\n",
        "screen_size=st.slider(\"Screen size(measured diagonally, in inches)\",min_value=10.0,max_value=18.4,value=15.6,step=0.1)\n",
        "screen_resolution=st.selectbox(\"Laptop Screen Resolution (in pixels)\",\n",
        " [\"2560x1600\",\"1440x900\",\"1920x1080\",\"2880x1800\",\"1366x768\",\"2304x1440\",\"3200x1800\",\"1920x1200\",\"2256x1504\",\n",
        "  \"3840x2160\",\"2160x1440\",\"2560x1440\",\"1600x900\",\"2736x1824\",\"2400x1600\"],index=2)\n",
        "\n",
        "if st.button(\"PREDICT PRICE\"):\n",
        "    if touchscreen == 'Yes':\n",
        "        touchscreen=1\n",
        "    else:\n",
        "        touchscreen=0\n",
        "    if ips == 'Yes':\n",
        "        ips=1\n",
        "    else:\n",
        "        ips=0\n",
        "    X_res=int(screen_resolution.split('x')[0])\n",
        "    Y_res=int(screen_resolution.split('x')[1])\n",
        "    ppi = ((X_res**2)+(Y_res**2))**0.5/screen_size\n",
        "    query=[[company,typename,cpu,ram,gpu,os,weight,touchscreen,ips,cpu_speed,hdd,ssd,ppi]]\n",
        "    op=pipe.predict(query)\n",
        "    st.subheader(\"The estimated price of the laptop with the above mentioned specs is ₹\"+str(int(round(op[0],-2)))+\".\")"
      ],
      "metadata": {
        "id": "4wySF-iTknzA"
      },
      "execution_count": null,
      "outputs": []
    },
    {
      "cell_type": "code",
      "source": [
        "df.sample()"
      ],
      "metadata": {
        "id": "BygRFbv_jNa-"
      },
      "execution_count": null,
      "outputs": []
    },
    {
      "cell_type": "code",
      "source": [
        "df[\"Cpu_Speed\"].describe()"
      ],
      "metadata": {
        "id": "ikjVbCv8jP2w"
      },
      "execution_count": null,
      "outputs": []
    },
    {
      "cell_type": "code",
      "source": [
        "!streamlit run laptop_app.py & npx localtunnel --port 8501"
      ],
      "metadata": {
        "id": "jV4-XlzRGO53"
      },
      "execution_count": null,
      "outputs": []
    },
    {
      "cell_type": "code",
      "source": [
        "import sklearn\n",
        "sklearn.__version__"
      ],
      "metadata": {
        "id": "jnjyEQ7vxNvy"
      },
      "execution_count": null,
      "outputs": []
    },
    {
      "cell_type": "code",
      "source": [],
      "metadata": {
        "id": "QSwuw1B3xZ-6"
      },
      "execution_count": null,
      "outputs": []
    }
  ]
}